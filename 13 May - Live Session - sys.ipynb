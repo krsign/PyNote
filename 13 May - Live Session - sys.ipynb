{
 "cells": [
  {
   "cell_type": "code",
   "execution_count": null,
   "metadata": {},
   "outputs": [],
   "source": [
    "sys\n",
    "os\n",
    "pdb\n",
    "\n",
    "threading\n",
    "\n",
    "xml\n",
    "jason\n",
    "csv"
   ]
  },
  {
   "cell_type": "code",
   "execution_count": 1,
   "metadata": {},
   "outputs": [],
   "source": [
    "import sys"
   ]
  },
  {
   "cell_type": "code",
   "execution_count": 13,
   "metadata": {},
   "outputs": [
    {
     "name": "stdout",
     "output_type": "stream",
     "text": [
      "72\n",
      "104\n",
      "104\n",
      "104\n",
      "104\n",
      "136\n"
     ]
    }
   ],
   "source": [
    "l = []\n",
    "print(sys.getsizeof(l))\n",
    "\n",
    "l.append(10)\n",
    "print(sys.getsizeof(l))\n",
    "\n",
    "l.append(20)\n",
    "print(sys.getsizeof(l))\n",
    "\n",
    "l.append(30)\n",
    "print(sys.getsizeof(l))\n",
    "\n",
    "l.append(40)\n",
    "print(sys.getsizeof(l))\n",
    "\n",
    "l.append(50)\n",
    "print(sys.getsizeof(l))"
   ]
  },
  {
   "cell_type": "code",
   "execution_count": 5,
   "metadata": {},
   "outputs": [
    {
     "name": "stdout",
     "output_type": "stream",
     "text": [
      "Help on built-in function getsizeof in module sys:\n",
      "\n",
      "getsizeof(...)\n",
      "    getsizeof(object, default) -> int\n",
      "    \n",
      "    Return the size of object in bytes.\n",
      "\n",
      "None\n"
     ]
    }
   ],
   "source": [
    "print(help(sys.getsizeof))"
   ]
  },
  {
   "cell_type": "code",
   "execution_count": 26,
   "metadata": {},
   "outputs": [
    {
     "name": "stdout",
     "output_type": "stream",
     "text": [
      "248\n",
      "248\n",
      "248\n",
      "248\n",
      "248\n",
      "248\n",
      "376\n",
      "{'1': 1, 2: 4, 3: 9, 4: 16, 5: 25, 6: 36}\n"
     ]
    }
   ],
   "source": [
    "d = {}\n",
    "print(sys.getsizeof(d))\n",
    "\n",
    "d['1'] = 1\n",
    "print(sys.getsizeof(d))\n",
    "\n",
    "d[2] = 4\n",
    "print(sys.getsizeof(d))\n",
    "\n",
    "d[3] = 9\n",
    "print(sys.getsizeof(d))\n",
    "\n",
    "d[4] = 16\n",
    "print(sys.getsizeof(d))\n",
    "\n",
    "d[5] = 25\n",
    "print(sys.getsizeof(d))\n",
    "\n",
    "d[6] = 36\n",
    "print(sys.getsizeof(d))\n",
    "\n",
    "print(d)"
   ]
  },
  {
   "cell_type": "code",
   "execution_count": 31,
   "metadata": {},
   "outputs": [
    {
     "name": "stdout",
     "output_type": "stream",
     "text": [
      "49\n",
      "50\n",
      "51\n",
      "52\n",
      "abc\n"
     ]
    }
   ],
   "source": [
    "s = ''\n",
    "print(sys.getsizeof(s))\n",
    "\n",
    "s = s + 'a'\n",
    "print(sys.getsizeof(s))\n",
    "\n",
    "s = s + 'b'\n",
    "print(sys.getsizeof(s))\n",
    "\n",
    "s = s + 'c'\n",
    "print(sys.getsizeof(s))\n",
    "\n",
    "print(s)"
   ]
  },
  {
   "cell_type": "code",
   "execution_count": 32,
   "metadata": {},
   "outputs": [
    {
     "name": "stdout",
     "output_type": "stream",
     "text": [
      "3.7.6 (default, Jan  8 2020, 13:42:34) \n",
      "[Clang 4.0.1 (tags/RELEASE_401/final)]\n"
     ]
    }
   ],
   "source": [
    "print(sys.version)"
   ]
  },
  {
   "cell_type": "code",
   "execution_count": 33,
   "metadata": {},
   "outputs": [
    {
     "name": "stdout",
     "output_type": "stream",
     "text": [
      "/Users/krsign/opt/anaconda3/bin/python\n"
     ]
    }
   ],
   "source": [
    "print(sys.executable)"
   ]
  },
  {
   "cell_type": "code",
   "execution_count": 34,
   "metadata": {},
   "outputs": [
    {
     "name": "stdout",
     "output_type": "stream",
     "text": [
      "['/Users/krsign/PythonEdYoda', '/Users/krsign/opt/anaconda3/lib/python37.zip', '/Users/krsign/opt/anaconda3/lib/python3.7', '/Users/krsign/opt/anaconda3/lib/python3.7/lib-dynload', '', '/Users/krsign/opt/anaconda3/lib/python3.7/site-packages', '/Users/krsign/opt/anaconda3/lib/python3.7/site-packages/aeosa', '/Users/krsign/opt/anaconda3/lib/python3.7/site-packages/IPython/extensions', '/Users/krsign/.ipython']\n"
     ]
    }
   ],
   "source": [
    "print(sys.path)"
   ]
  },
  {
   "cell_type": "code",
   "execution_count": 35,
   "metadata": {},
   "outputs": [
    {
     "name": "stdout",
     "output_type": "stream",
     "text": [
      "darwin\n"
     ]
    }
   ],
   "source": [
    "print(sys.platform)"
   ]
  },
  {
   "cell_type": "code",
   "execution_count": 36,
   "metadata": {},
   "outputs": [],
   "source": [
    "import os"
   ]
  },
  {
   "cell_type": "code",
   "execution_count": 37,
   "metadata": {},
   "outputs": [
    {
     "name": "stdout",
     "output_type": "stream",
     "text": [
      "['sys_output.txt', '19 February - Live Session - List and Tuple.ipynb', '20 February - Live Session - Dict.ipynb', 'Python User Defined - Revision.ipynb', 'Practice Problems for looping statements.ipynb', 'Python Data Types - Revision.ipynb', 'Datatype Assignment 1.ipynb', '17 February Session - 7.ipynb', '13 February Session 5 - Looping Statements.ipynb', '25 February - Live Session - User Defined Function - Continued.ipynb', 'Untitled.ipynb', 'Data_Type_Assignment_1.py', 'Practice problems - List | Tuple .ipynb', 'sys_err.txt', 'Conditionals and Looping  - Homework (12 Feb 2020).ipynb', '11 March - Live Session - Iterators and Generators.ipynb', 'User defined Function  - Password Generator - Task.ipynb', 'test1.py', '5 March - Live Session - .ipynb', '26 February - live session - Modules and Packages.ipynb', 'sample_text.txt', '21 February - Live Session - Dict - Set.ipynb', '26 March - Live Session - Inheritance.ipynb', '11 February EdYoda Live Session .ipynb', 'sample_text2.txt', '24 March - Live Session - Inheritance and more.ipynb', '.ipynb_checkpoints', '6 March - Live Session - Maps and Filters.ipynb', '4 March - Live Session - List Comprehension .ipynb', '27 February - Live Session - File Operations.ipynb', 'Practice Problems for Strings.ipynb', '14 February - Session 6.ipynb', 'Python Notes.ipynb', 'Practice Problems for Operators & Conditional statements.ipynb', 'Assignment 1 - Data Type.ipynb', '24 February - Live Session - User Defined Function.ipynb', '18 February - Session 8 - List.ipynb']\n"
     ]
    }
   ],
   "source": [
    "print(os.listdir())"
   ]
  },
  {
   "cell_type": "code",
   "execution_count": 38,
   "metadata": {},
   "outputs": [],
   "source": [
    "os.mkdir('test_dir')"
   ]
  },
  {
   "cell_type": "code",
   "execution_count": 39,
   "metadata": {},
   "outputs": [
    {
     "name": "stdout",
     "output_type": "stream",
     "text": [
      "['sys_output.txt', '19 February - Live Session - List and Tuple.ipynb', '20 February - Live Session - Dict.ipynb', 'Python User Defined - Revision.ipynb', 'Practice Problems for looping statements.ipynb', 'Python Data Types - Revision.ipynb', 'Datatype Assignment 1.ipynb', '17 February Session - 7.ipynb', '13 February Session 5 - Looping Statements.ipynb', '25 February - Live Session - User Defined Function - Continued.ipynb', 'Untitled.ipynb', 'Data_Type_Assignment_1.py', 'Practice problems - List | Tuple .ipynb', 'sys_err.txt', 'Conditionals and Looping  - Homework (12 Feb 2020).ipynb', '11 March - Live Session - Iterators and Generators.ipynb', 'User defined Function  - Password Generator - Task.ipynb', 'test1.py', '5 March - Live Session - .ipynb', '26 February - live session - Modules and Packages.ipynb', 'sample_text.txt', '21 February - Live Session - Dict - Set.ipynb', 'test_dir', '26 March - Live Session - Inheritance.ipynb', '11 February EdYoda Live Session .ipynb', 'sample_text2.txt', '24 March - Live Session - Inheritance and more.ipynb', '.ipynb_checkpoints', '6 March - Live Session - Maps and Filters.ipynb', '4 March - Live Session - List Comprehension .ipynb', '27 February - Live Session - File Operations.ipynb', 'Practice Problems for Strings.ipynb', '14 February - Session 6.ipynb', 'Python Notes.ipynb', 'Practice Problems for Operators & Conditional statements.ipynb', 'Assignment 1 - Data Type.ipynb', '24 February - Live Session - User Defined Function.ipynb', '18 February - Session 8 - List.ipynb']\n"
     ]
    }
   ],
   "source": [
    "print(os.listdir())"
   ]
  },
  {
   "cell_type": "code",
   "execution_count": 40,
   "metadata": {},
   "outputs": [
    {
     "name": "stdout",
     "output_type": "stream",
     "text": [
      "/Users/krsign/PythonEdYoda\n"
     ]
    }
   ],
   "source": [
    "print(os.getcwd())"
   ]
  },
  {
   "cell_type": "code",
   "execution_count": 41,
   "metadata": {},
   "outputs": [
    {
     "name": "stdout",
     "output_type": "stream",
     "text": [
      "/Users/krsign/PythonEdYoda/test_dir\n"
     ]
    }
   ],
   "source": [
    "os.chdir('test_dir')\n",
    "print(os.getcwd())"
   ]
  }
 ],
 "metadata": {
  "kernelspec": {
   "display_name": "Python 3",
   "language": "python",
   "name": "python3"
  },
  "language_info": {
   "codemirror_mode": {
    "name": "ipython",
    "version": 3
   },
   "file_extension": ".py",
   "mimetype": "text/x-python",
   "name": "python",
   "nbconvert_exporter": "python",
   "pygments_lexer": "ipython3",
   "version": "3.7.6"
  }
 },
 "nbformat": 4,
 "nbformat_minor": 4
}
