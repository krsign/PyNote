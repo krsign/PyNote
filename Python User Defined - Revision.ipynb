{
 "cells": [
  {
   "cell_type": "markdown",
   "metadata": {},
   "source": [
    "# user defined function "
   ]
  },
  {
   "cell_type": "code",
   "execution_count": 7,
   "metadata": {},
   "outputs": [
    {
     "name": "stdout",
     "output_type": "stream",
     "text": [
      "<class 'NoneType'>\n"
     ]
    }
   ],
   "source": [
    "def function():\n",
    "    pass\n",
    "print(type(function()))"
   ]
  },
  {
   "cell_type": "code",
   "execution_count": 9,
   "metadata": {},
   "outputs": [
    {
     "name": "stdout",
     "output_type": "stream",
     "text": [
      "300\n"
     ]
    }
   ],
   "source": [
    "# Intergers\n",
    "def add(n1,n2):\n",
    "    addition = n1 + n2\n",
    "    return addition\n",
    "print(add(100,200))"
   ]
  },
  {
   "cell_type": "code",
   "execution_count": 11,
   "metadata": {},
   "outputs": [
    {
     "name": "stdout",
     "output_type": "stream",
     "text": [
      "Enter First Number : 10\n",
      "Enter Second Number: 10\n",
      "20\n"
     ]
    }
   ],
   "source": [
    "# input from users\n",
    "\n",
    "def add(n1,n2):\n",
    "    addition = n1 + n2\n",
    "    return addition\n",
    "\n",
    "n1 = int(input('Enter First Number : '))\n",
    "n2 = int(input('Enter Second Number: '))\n",
    "\n",
    "print(add(n1,n2))"
   ]
  },
  {
   "cell_type": "code",
   "execution_count": 17,
   "metadata": {},
   "outputs": [
    {
     "name": "stdout",
     "output_type": "stream",
     "text": [
      "Enter Radius   : 3\n",
      "Area of Circle : 18.84\n"
     ]
    }
   ],
   "source": [
    "# floating points\n",
    "\n",
    "def circle(r):\n",
    "    pi = 3.14\n",
    "    area = 2 * pi * r\n",
    "    return area\n",
    "radius = float(input('Enter Radius   : '))\n",
    "print('Area of Circle :',circle(radius))"
   ]
  },
  {
   "cell_type": "code",
   "execution_count": 3,
   "metadata": {},
   "outputs": [
    {
     "name": "stdout",
     "output_type": "stream",
     "text": [
      "Enter First Side : 4\n",
      "Enter Second Side: 5\n",
      "4 is not equal 5 so it rectangle!\n",
      "Its Area :  20\n"
     ]
    }
   ],
   "source": [
    "# square or rectangle?\n",
    "\n",
    "def sqr_or_rect(l,b):\n",
    "    if l == b:\n",
    "        print('{} is equal to {} so it is square!'.format(l,b))\n",
    "        return l * b \n",
    "    else:\n",
    "        print('{} is not equal {} so it rectangle!'.format(l,b))\n",
    "        return l * b\n",
    "    \n",
    "s1 = int(input('Enter First Side : '))\n",
    "s2 = int(input('Enter Second Side: '))\n",
    "print(\"Its Area : \",sqr_or_rect(s1,s2))"
   ]
  },
  {
   "cell_type": "code",
   "execution_count": 13,
   "metadata": {},
   "outputs": [
    {
     "name": "stdout",
     "output_type": "stream",
     "text": [
      "snosaer eht tuoba gnikniht tsuJ\n"
     ]
    }
   ],
   "source": [
    "s = 'Just thinking about the reasons'\n",
    "print(s[::-1])"
   ]
  },
  {
   "cell_type": "code",
   "execution_count": 14,
   "metadata": {},
   "outputs": [
    {
     "name": "stdout",
     "output_type": "stream",
     "text": [
      "snosaer eht tuoba gnikniht tsuJ\n"
     ]
    }
   ],
   "source": [
    "def rev_str(s):\n",
    "    return s[::-1]\n",
    "s = 'Just thinking about the reasons'\n",
    "print(rev_str(s))"
   ]
  },
  {
   "cell_type": "code",
   "execution_count": 16,
   "metadata": {},
   "outputs": [
    {
     "name": "stdout",
     "output_type": "stream",
     "text": [
      "RK\n"
     ]
    }
   ],
   "source": [
    "s2 = \"KR\"\n",
    "print(rev_str(s2))"
   ]
  },
  {
   "cell_type": "code",
   "execution_count": 18,
   "metadata": {},
   "outputs": [
    {
     "name": "stdout",
     "output_type": "stream",
     "text": [
      "Enter number to find even: 3\n",
      "False\n"
     ]
    }
   ],
   "source": [
    "def odd_even(n):\n",
    "    if n % 2 == 0:\n",
    "        return True\n",
    "    return False\n",
    "n = int(input('Enter number to find even: '))\n",
    "print(odd_even(n))"
   ]
  },
  {
   "cell_type": "code",
   "execution_count": 23,
   "metadata": {},
   "outputs": [
    {
     "name": "stdout",
     "output_type": "stream",
     "text": [
      "(3, 40)\n"
     ]
    }
   ],
   "source": [
    "#linear search\n",
    "\n",
    "def search(n,key):\n",
    "    for index,x in enumerate(n):\n",
    "        if x == key:\n",
    "            return index,key\n",
    "    return 'Not Found!'\n",
    "            \n",
    "n = [10,20,30,40,50,60,70,80]\n",
    "key = 40\n",
    "print(search(n,key))"
   ]
  },
  {
   "cell_type": "code",
   "execution_count": 30,
   "metadata": {},
   "outputs": [
    {
     "name": "stdout",
     "output_type": "stream",
     "text": [
      "598\n"
     ]
    }
   ],
   "source": [
    "def find_max(num,max_index):\n",
    "    sorted_num = sorted(set(num))\n",
    "    return sorted_num[-max_index] \n",
    "    \n",
    "num = sorted([10,39,44,544,584,598,40])\n",
    "print(find_max(num,1))"
   ]
  },
  {
   "cell_type": "markdown",
   "metadata": {},
   "source": [
    "# random"
   ]
  },
  {
   "cell_type": "code",
   "execution_count": 4,
   "metadata": {},
   "outputs": [
    {
     "name": "stdout",
     "output_type": "stream",
     "text": [
      "['BPF', 'LOG4', 'NV_MAGICCONST', 'RECIP_BPF', 'Random', 'SG_MAGICCONST', 'SystemRandom', 'TWOPI', '_BuiltinMethodType', '_MethodType', '_Sequence', '_Set', '__all__', '__builtins__', '__cached__', '__doc__', '__file__', '__loader__', '__name__', '__package__', '__spec__', '_acos', '_bisect', '_ceil', '_cos', '_e', '_exp', '_inst', '_itertools', '_log', '_os', '_pi', '_random', '_sha512', '_sin', '_sqrt', '_test', '_test_generator', '_urandom', '_warn', 'betavariate', 'choice', 'choices', 'expovariate', 'gammavariate', 'gauss', 'getrandbits', 'getstate', 'lognormvariate', 'normalvariate', 'paretovariate', 'randint', 'random', 'randrange', 'sample', 'seed', 'setstate', 'shuffle', 'triangular', 'uniform', 'vonmisesvariate', 'weibullvariate']\n"
     ]
    }
   ],
   "source": [
    "import random\n",
    "print(dir(random))"
   ]
  },
  {
   "cell_type": "code",
   "execution_count": 11,
   "metadata": {},
   "outputs": [
    {
     "name": "stdout",
     "output_type": "stream",
     "text": [
      "0.5476010806898357\n"
     ]
    }
   ],
   "source": [
    "print(random.random())"
   ]
  },
  {
   "cell_type": "code",
   "execution_count": 17,
   "metadata": {},
   "outputs": [
    {
     "name": "stdout",
     "output_type": "stream",
     "text": [
      "3\n"
     ]
    }
   ],
   "source": [
    "# choice is module function\n",
    "\n",
    "dice = [1,2,3,4,5,6]\n",
    "print(random.choice(dice))"
   ]
  },
  {
   "cell_type": "code",
   "execution_count": 136,
   "metadata": {},
   "outputs": [
    {
     "name": "stdout",
     "output_type": "stream",
     "text": [
      "8\n"
     ]
    }
   ],
   "source": [
    "# choice is module function\n",
    "\n",
    "num = range(1,11)\n",
    "print(random.choice(num))"
   ]
  },
  {
   "cell_type": "code",
   "execution_count": 244,
   "metadata": {},
   "outputs": [
    {
     "name": "stdout",
     "output_type": "stream",
     "text": [
      "2\n"
     ]
    }
   ],
   "source": [
    "# end value in randint is inclusive \n",
    "\n",
    "print(random.randint(1,5))"
   ]
  },
  {
   "cell_type": "code",
   "execution_count": 243,
   "metadata": {},
   "outputs": [
    {
     "name": "stdout",
     "output_type": "stream",
     "text": [
      "1\n"
     ]
    }
   ],
   "source": [
    "# end value in randrange is exclusive\n",
    "\n",
    "print(random.randrange(1,5))"
   ]
  },
  {
   "cell_type": "code",
   "execution_count": 277,
   "metadata": {},
   "outputs": [
    {
     "name": "stdout",
     "output_type": "stream",
     "text": [
      "1.3967197172087231\n"
     ]
    }
   ],
   "source": [
    "# uniform is for floating number generator and end is exclusive\n",
    "\n",
    "print(random.uniform(1,5))"
   ]
  },
  {
   "cell_type": "markdown",
   "metadata": {},
   "source": [
    "# example on random"
   ]
  },
  {
   "cell_type": "code",
   "execution_count": null,
   "metadata": {},
   "outputs": [],
   "source": [
    "gen_pass()\n",
    "    8 chars\n",
    "    - 1 upper\n",
    "    - 1 lower\n",
    "    - 1 special char [!,@,#,$,&]\n",
    "    - 5 digit"
   ]
  },
  {
   "cell_type": "code",
   "execution_count": 394,
   "metadata": {},
   "outputs": [
    {
     "name": "stdout",
     "output_type": "stream",
     "text": [
      "u\n",
      "Z\n",
      "#\n",
      "66612\n"
     ]
    }
   ],
   "source": [
    "import random\n",
    "# print(ord('a'))\n",
    "# print(ord('z'))\n",
    "lower = chr(random.randint(ord('a'),ord('z')))\n",
    "print(lower)\n",
    "\n",
    "# print(ord('A'))\n",
    "# print(ord('Z'))\n",
    "upper = chr(random.randint(ord('A'),ord('Z')))\n",
    "print(upper)\n",
    "\n",
    "char = ['!','@','#','$','&']\n",
    "special = random.choice(char)\n",
    "print(special)\n",
    "\n",
    "# five digit number smallest 10000 and largest 99999\n",
    "print(random.randint(10000,99999))"
   ]
  },
  {
   "cell_type": "code",
   "execution_count": 446,
   "metadata": {},
   "outputs": [
    {
     "name": "stdout",
     "output_type": "stream",
     "text": [
      "Am$73752\n"
     ]
    }
   ],
   "source": [
    "import random\n",
    "def gen_password():\n",
    "    \n",
    "    lower = str(chr(random.randint(ord('a'),ord('z'))))\n",
    "    upper = str(chr(random.randint(ord('A'),ord('Z'))))\n",
    "    \n",
    "    char = ['!','@','#','$','&']\n",
    "    special = str(random.choice(char))\n",
    "    \n",
    "    digit = str(random.randint(10000,99999))\n",
    "    \n",
    "    password = upper + lower + special + digit\n",
    "    \n",
    "    return password\n",
    "\n",
    "print(gen_password())"
   ]
  },
  {
   "cell_type": "code",
   "execution_count": 448,
   "metadata": {},
   "outputs": [
    {
     "name": "stdout",
     "output_type": "stream",
     "text": [
      "Help on method sample in module random:\n",
      "\n",
      "sample(population, k) method of random.Random instance\n",
      "    Chooses k unique random elements from a population sequence or set.\n",
      "    \n",
      "    Returns a new list containing elements from the population while\n",
      "    leaving the original population unchanged.  The resulting list is\n",
      "    in selection order so that all sub-slices will also be valid random\n",
      "    samples.  This allows raffle winners (the sample) to be partitioned\n",
      "    into grand prize and second place winners (the subslices).\n",
      "    \n",
      "    Members of the population need not be hashable or unique.  If the\n",
      "    population contains repeats, then each occurrence is a possible\n",
      "    selection in the sample.\n",
      "    \n",
      "    To choose a sample in a range of integers, use range as an argument.\n",
      "    This is especially fast and space efficient for sampling from a\n",
      "    large population:   sample(range(10000000), 60)\n",
      "\n"
     ]
    }
   ],
   "source": [
    "help(random.sample)"
   ]
  },
  {
   "cell_type": "code",
   "execution_count": 149,
   "metadata": {},
   "outputs": [
    {
     "name": "stdout",
     "output_type": "stream",
     "text": [
      "['J', 87749, 'l', '&']\n"
     ]
    }
   ],
   "source": [
    "import random\n",
    "def gen_password():\n",
    "    \n",
    "    lower = chr(random.randint(ord('a'),ord('z')))\n",
    "    upper = chr(random.randint(ord('A'),ord('Z')))\n",
    "    \n",
    "    char = ['!','@','#','$','&']\n",
    "    special = random.choice(char)\n",
    "    \n",
    "    digit = random.randint(10000,99999)\n",
    "    \n",
    "    sequence = [lower,upper,special,digit]\n",
    "    return random.sample(sequence,4)\n",
    "\n",
    "print(gen_password())"
   ]
  },
  {
   "cell_type": "code",
   "execution_count": 234,
   "metadata": {},
   "outputs": [
    {
     "name": "stdout",
     "output_type": "stream",
     "text": [
      "['__add__', '__class__', '__contains__', '__delattr__', '__dir__', '__doc__', '__eq__', '__format__', '__ge__', '__getattribute__', '__getitem__', '__getnewargs__', '__gt__', '__hash__', '__init__', '__init_subclass__', '__iter__', '__le__', '__len__', '__lt__', '__mod__', '__mul__', '__ne__', '__new__', '__reduce__', '__reduce_ex__', '__repr__', '__rmod__', '__rmul__', '__setattr__', '__sizeof__', '__str__', '__subclasshook__', 'capitalize', 'casefold', 'center', 'count', 'encode', 'endswith', 'expandtabs', 'find', 'format', 'format_map', 'index', 'isalnum', 'isalpha', 'isascii', 'isdecimal', 'isdigit', 'isidentifier', 'islower', 'isnumeric', 'isprintable', 'isspace', 'istitle', 'isupper', 'join', 'ljust', 'lower', 'lstrip', 'maketrans', 'partition', 'replace', 'rfind', 'rindex', 'rjust', 'rpartition', 'rsplit', 'rstrip', 'split', 'splitlines', 'startswith', 'strip', 'swapcase', 'title', 'translate', 'upper', 'zfill']\n"
     ]
    }
   ],
   "source": [
    "print(dir(str))"
   ]
  },
  {
   "cell_type": "code",
   "execution_count": 236,
   "metadata": {},
   "outputs": [
    {
     "name": "stdout",
     "output_type": "stream",
     "text": [
      "12345\n"
     ]
    },
    {
     "ename": "AttributeError",
     "evalue": "'list' object has no attribute 'join'",
     "output_type": "error",
     "traceback": [
      "\u001b[0;31m---------------------------------------------------------------------------\u001b[0m",
      "\u001b[0;31mAttributeError\u001b[0m                            Traceback (most recent call last)",
      "\u001b[0;32m<ipython-input-236-ae884a8850bd>\u001b[0m in \u001b[0;36m<module>\u001b[0;34m\u001b[0m\n\u001b[1;32m      3\u001b[0m \u001b[0ml2\u001b[0m \u001b[0;34m=\u001b[0m \u001b[0;34m[\u001b[0m\u001b[0;34m'1'\u001b[0m\u001b[0;34m,\u001b[0m\u001b[0;34m'2'\u001b[0m\u001b[0;34m,\u001b[0m\u001b[0;34m'3'\u001b[0m\u001b[0;34m,\u001b[0m\u001b[0;34m'4'\u001b[0m\u001b[0;34m,\u001b[0m\u001b[0;34m'5'\u001b[0m\u001b[0;34m]\u001b[0m\u001b[0;34m\u001b[0m\u001b[0;34m\u001b[0m\u001b[0m\n\u001b[1;32m      4\u001b[0m \u001b[0ml3\u001b[0m \u001b[0;34m=\u001b[0m \u001b[0;34m'-'\u001b[0m\u001b[0;34m\u001b[0m\u001b[0;34m\u001b[0m\u001b[0m\n\u001b[0;32m----> 5\u001b[0;31m \u001b[0mprint\u001b[0m\u001b[0;34m(\u001b[0m\u001b[0ml2\u001b[0m\u001b[0;34m.\u001b[0m\u001b[0mjoin\u001b[0m\u001b[0;34m(\u001b[0m\u001b[0ml2\u001b[0m\u001b[0;34m)\u001b[0m\u001b[0;34m)\u001b[0m\u001b[0;34m\u001b[0m\u001b[0;34m\u001b[0m\u001b[0m\n\u001b[0m",
      "\u001b[0;31mAttributeError\u001b[0m: 'list' object has no attribute 'join'"
     ]
    }
   ],
   "source": [
    "l = ['1','2','3','4','5']\n",
    "print(''.join(l))\n",
    "l2 = ['1','2','3','4','5']\n",
    "l3 = '-'\n",
    "print(l2.join(l2))"
   ]
  },
  {
   "cell_type": "code",
   "execution_count": 232,
   "metadata": {},
   "outputs": [
    {
     "name": "stdout",
     "output_type": "stream",
     "text": [
      "p6M07!06\n"
     ]
    }
   ],
   "source": [
    "import random\n",
    "def gen_password():\n",
    "    \n",
    "    lower = str(chr(random.randint(ord('a'),ord('z'))))\n",
    "    upper = str(chr(random.randint(ord('A'),ord('Z'))))\n",
    "    \n",
    "    char = ['!','@','#','$','&']\n",
    "    special = str(random.choice(char))\n",
    "    \n",
    "    digit = str(random.randint(10000,99999))\n",
    "    \n",
    "    merge = lower + upper + special + digit\n",
    "    \n",
    "    password = ''.join(random.sample(merge,8))\n",
    "    \n",
    "    return password\n",
    "       \n",
    "print(gen_password())"
   ]
  }
 ],
 "metadata": {
  "kernelspec": {
   "display_name": "Python 3",
   "language": "python",
   "name": "python3"
  },
  "language_info": {
   "codemirror_mode": {
    "name": "ipython",
    "version": 3
   },
   "file_extension": ".py",
   "mimetype": "text/x-python",
   "name": "python",
   "nbconvert_exporter": "python",
   "pygments_lexer": "ipython3",
   "version": "3.7.4"
  }
 },
 "nbformat": 4,
 "nbformat_minor": 2
}
