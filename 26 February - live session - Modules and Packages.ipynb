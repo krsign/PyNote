{
 "cells": [
  {
   "cell_type": "code",
   "execution_count": null,
   "metadata": {},
   "outputs": [],
   "source": [
    "positiona\n",
    "default\n",
    "keyword\n",
    "varible positional \n",
    "variable length keyword"
   ]
  },
  {
   "cell_type": "code",
   "execution_count": null,
   "metadata": {},
   "outputs": [],
   "source": [
    "#recursive function\n",
    "5! =5 * 4 * 3 * 2 * 1"
   ]
  },
  {
   "cell_type": "code",
   "execution_count": null,
   "metadata": {},
   "outputs": [],
   "source": [
    "5! =  5 * 4!\n",
    "            4 * 3!\n",
    "                 3 * 2!\n",
    "                      2 * 1!\n",
    "                           1"
   ]
  },
  {
   "cell_type": "code",
   "execution_count": 1,
   "metadata": {},
   "outputs": [
    {
     "name": "stdout",
     "output_type": "stream",
     "text": [
      "120\n"
     ]
    }
   ],
   "source": [
    "def fact(num):\n",
    "    if num == 1:\n",
    "        return 1\n",
    "    else:\n",
    "        return num * fact(num - 1)\n",
    "num = 5\n",
    "print(fact(num))"
   ]
  },
  {
   "cell_type": "code",
   "execution_count": null,
   "metadata": {},
   "outputs": [],
   "source": [
    "fact(5) => return 5 * fact(4) => 5 * 24 = 120\n",
    "            => return 4 * fact(3) => 4 * 6 = 24\n",
    "              => return 3 * fact(2) => 3 * 2 = 6\n",
    "                =>  return 2 * fact(1) => 2 *1 = 2\n",
    "                  => return 1"
   ]
  },
  {
   "cell_type": "code",
   "execution_count": null,
   "metadata": {},
   "outputs": [],
   "source": [
    "fact(5) => return 5 * fact(4) => 5 * 24 = 120\n",
    "            => return 4 * fact(3) => 4 * 6 = 24\n",
    "              => return 3 * fact(2) => 3 * 2 = 6\n",
    "                =>  return 2 * fact(1) => 2 *1 = 2\n",
    "                  => print(1) None"
   ]
  },
  {
   "cell_type": "code",
   "execution_count": null,
   "metadata": {},
   "outputs": [],
   "source": [
    "l = [10,20,30,40,50,60,70,80,90]\n",
    "key = 70"
   ]
  },
  {
   "cell_type": "code",
   "execution_count": null,
   "metadata": {},
   "outputs": [],
   "source": [
    "#binary search\n",
    "\n",
    "1. find mid elements len(l) // 2\n",
    "    mid_index = 4 mid_ele => 50\n",
    "    \n",
    "2. check if key == mid_ele else 50 == 70 ? no\n",
    "\n",
    "3. key > mid_ele 70 > 50:\n",
    "    l = [60,70,80,90]\n",
    "    key = 70\n",
    "\n",
    "4. key < mid_ele"
   ]
  },
  {
   "cell_type": "code",
   "execution_count": 12,
   "metadata": {},
   "outputs": [
    {
     "name": "stdout",
     "output_type": "stream",
     "text": [
      "False\n"
     ]
    }
   ],
   "source": [
    "def binary_search(l,key):\n",
    "    if not l:\n",
    "        return False\n",
    "    else:\n",
    "        mid_index = len(l) // 2\n",
    "        if key == l[mid_index]:\n",
    "            return True\n",
    "        elif key < l[mid_index]:\n",
    "            return binary_search(l[:mid_index],key)\n",
    "        else:\n",
    "            return binary_search(l[mid_index + 1:], key)\n",
    "\n",
    "l = [10,20,30,40,50,60,70,80,90]\n",
    "key = 700\n",
    "print(binary_search(sorted(l),key))"
   ]
  },
  {
   "cell_type": "code",
   "execution_count": 13,
   "metadata": {},
   "outputs": [
    {
     "name": "stdout",
     "output_type": "stream",
     "text": [
      "True\n"
     ]
    }
   ],
   "source": [
    "#tried \n",
    "\n",
    "def binary_search(l,key):\n",
    "    if not l:\n",
    "        return False\n",
    "    else:\n",
    "        mid_index = len(l) // 2\n",
    "        if key == l[mid_index]:\n",
    "            return True\n",
    "        elif key < l[mid_index]:\n",
    "            return binary_search(l[:mid_index],key)\n",
    "        else:\n",
    "            return binary_search(l[mid_index + 1:],key)   \n",
    "    \n",
    "l = [10,20,30,40,50,60,70,80,90]\n",
    "key = 70\n",
    "print(binary_search(sorted(l),key))"
   ]
  },
  {
   "cell_type": "code",
   "execution_count": null,
   "metadata": {},
   "outputs": [],
   "source": [
    "# file "
   ]
  },
  {
   "cell_type": "code",
   "execution_count": null,
   "metadata": {},
   "outputs": [],
   "source": [
    "module : collection func/classes .py\n",
    "package : "
   ]
  },
  {
   "cell_type": "code",
   "execution_count": null,
   "metadata": {},
   "outputs": [],
   "source": []
  },
  {
   "cell_type": "code",
   "execution_count": null,
   "metadata": {},
   "outputs": [],
   "source": []
  },
  {
   "cell_type": "code",
   "execution_count": null,
   "metadata": {},
   "outputs": [],
   "source": []
  },
  {
   "cell_type": "code",
   "execution_count": null,
   "metadata": {},
   "outputs": [],
   "source": []
  }
 ],
 "metadata": {
  "kernelspec": {
   "display_name": "Python 3",
   "language": "python",
   "name": "python3"
  },
  "language_info": {
   "codemirror_mode": {
    "name": "ipython",
    "version": 3
   },
   "file_extension": ".py",
   "mimetype": "text/x-python",
   "name": "python",
   "nbconvert_exporter": "python",
   "pygments_lexer": "ipython3",
   "version": "3.7.4"
  }
 },
 "nbformat": 4,
 "nbformat_minor": 2
}
