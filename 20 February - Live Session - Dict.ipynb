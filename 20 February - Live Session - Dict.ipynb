{
 "cells": [
  {
   "cell_type": "code",
   "execution_count": 1,
   "metadata": {},
   "outputs": [
    {
     "name": "stdout",
     "output_type": "stream",
     "text": [
      "339444886529167313\n"
     ]
    }
   ],
   "source": [
    "print(hash('name'))"
   ]
  },
  {
   "cell_type": "code",
   "execution_count": 2,
   "metadata": {},
   "outputs": [
    {
     "ename": "KeyError",
     "evalue": "0",
     "output_type": "error",
     "traceback": [
      "\u001b[0;31m---------------------------------------------------------------------------\u001b[0m",
      "\u001b[0;31mKeyError\u001b[0m                                  Traceback (most recent call last)",
      "\u001b[0;32m<ipython-input-2-865f59f16c1f>\u001b[0m in \u001b[0;36m<module>\u001b[0;34m\u001b[0m\n\u001b[1;32m      1\u001b[0m \u001b[0mdic\u001b[0m \u001b[0;34m=\u001b[0m \u001b[0;34m{\u001b[0m\u001b[0;34m'name'\u001b[0m\u001b[0;34m:\u001b[0m \u001b[0;34m'krishna'\u001b[0m\u001b[0;34m,\u001b[0m\u001b[0;34m'age'\u001b[0m\u001b[0;34m:\u001b[0m\u001b[0;36m22\u001b[0m\u001b[0;34m}\u001b[0m\u001b[0;34m\u001b[0m\u001b[0;34m\u001b[0m\u001b[0m\n\u001b[0;32m----> 2\u001b[0;31m \u001b[0mprint\u001b[0m\u001b[0;34m(\u001b[0m\u001b[0mdic\u001b[0m\u001b[0;34m[\u001b[0m\u001b[0;36m0\u001b[0m\u001b[0;34m]\u001b[0m\u001b[0;34m)\u001b[0m\u001b[0;34m\u001b[0m\u001b[0;34m\u001b[0m\u001b[0m\n\u001b[0m",
      "\u001b[0;31mKeyError\u001b[0m: 0"
     ]
    }
   ],
   "source": [
    "dic = {'name': 'krishna','age':22}\n",
    "print(dic[0])\n",
    "\n",
    "# we can not use this way"
   ]
  },
  {
   "cell_type": "code",
   "execution_count": 8,
   "metadata": {},
   "outputs": [
    {
     "name": "stdout",
     "output_type": "stream",
     "text": [
      "{'name': 'krishna', 'age': 22, 'id': -1}\n",
      "-1\n",
      "{'name': 'krishna', 'age': 22, 'id': -1}\n",
      "-1\n",
      "{'name': 'krishna', 'age': 22, 'id': -1}\n"
     ]
    }
   ],
   "source": [
    "print(dic)\n",
    "print(dic.get('id',-1))\n",
    "print(dic)\n",
    "print(dic.setdefault('id',-1))\n",
    "print(dic)"
   ]
  },
  {
   "cell_type": "code",
   "execution_count": 9,
   "metadata": {},
   "outputs": [
    {
     "name": "stdout",
     "output_type": "stream",
     "text": [
      "{1: 1, 2: 4, 3: 9, 4: 16, 5: 25, 6: 36, 7: 49, 8: 64, 9: 81, 10: 100}\n"
     ]
    }
   ],
   "source": [
    "dic = {x : x * x for x in range(1,11)}\n",
    "print(dic)"
   ]
  },
  {
   "cell_type": "code",
   "execution_count": 10,
   "metadata": {},
   "outputs": [
    {
     "name": "stdout",
     "output_type": "stream",
     "text": [
      "{1: 1, 2: 4, 3: 9, 4: 16, 5: 25, 6: 36, 7: 49, 8: 64, 9: 81, 10: 100}\n"
     ]
    }
   ],
   "source": [
    "d = {}\n",
    "for num in range(1,11):\n",
    "    d.setdefault(num,num ** 2)\n",
    "print(d)"
   ]
  },
  {
   "cell_type": "code",
   "execution_count": 25,
   "metadata": {},
   "outputs": [
    {
     "name": "stdout",
     "output_type": "stream",
     "text": [
      "{range(1, 10): None}\n"
     ]
    }
   ],
   "source": [
    "l = [10,15,20,16,25,14,89,10,100]\n",
    "dic = {}\n",
    "for x in range(1,101):\n",
    "    dic.setdefault(range(1,10),x)\n",
    "    \n",
    "print(dic)"
   ]
  },
  {
   "cell_type": "code",
   "execution_count": 29,
   "metadata": {},
   "outputs": [
    {
     "name": "stdout",
     "output_type": "stream",
     "text": [
      "{(1, 10): 0, (11, 20): 0, (21, 30): 0, (31, 40): 0, (41, 50): 0, (51, 60): 0, (61, 70): 0, (71, 80): 0, (81, 90): 0, (91, 100): 0}\n"
     ]
    }
   ],
   "source": [
    "l = [10,15,20,16,25,14,89,10,100]\n",
    "dic = {}\n",
    "for num in range(1,92,10):\n",
    "    dic.setdefault((num,num +9),0)\n",
    "    \n",
    "print(dic)"
   ]
  },
  {
   "cell_type": "code",
   "execution_count": 35,
   "metadata": {},
   "outputs": [
    {
     "name": "stdout",
     "output_type": "stream",
     "text": [
      "{(1, 10): 9, (11, 20): 0, (21, 30): 0, (31, 40): 0, (41, 50): 0, (51, 60): 0, (61, 70): 0, (71, 80): 0, (81, 90): 0, (91, 100): 0}\n"
     ]
    }
   ],
   "source": [
    "dic = {}\n",
    "for num in range(1,92,10):\n",
    "    dic.setdefault((num,num +9),0)\n",
    "    \n",
    "nums = [10,15,20,16,25,14,89,10,86]\n",
    "\n",
    "for num in nums:\n",
    "    for x in dic:\n",
    "        if num > x[0] and num >= x[1]:\n",
    "            dic[x] += 1\n",
    "            break\n",
    "print(dic)"
   ]
  },
  {
   "cell_type": "code",
   "execution_count": null,
   "metadata": {},
   "outputs": [],
   "source": [
    "s = 'abbccdddssscccaaaasss'\n",
    "d = {'a':8,'b':9.....etc}"
   ]
  },
  {
   "cell_type": "code",
   "execution_count": 40,
   "metadata": {},
   "outputs": [
    {
     "name": "stdout",
     "output_type": "stream",
     "text": [
      "{'a': 6, 'b': 3, 'c': 6, 'd': 3, 's': 4}\n"
     ]
    }
   ],
   "source": [
    "s = 'aaaabbbcccdddsssscccaa'\n",
    "d = {}\n",
    "for char in s:\n",
    "    if char not in d:\n",
    "        d.setdefault(char,s.count(char))\n",
    "print(d)"
   ]
  },
  {
   "cell_type": "code",
   "execution_count": 45,
   "metadata": {},
   "outputs": [
    {
     "name": "stdout",
     "output_type": "stream",
     "text": [
      "dict_keys([1, 2, 3, 4, 5, 6, 7, 8, 9, 10])\n",
      "dict_items([(1, 1), (2, 4), (3, 27), (4, 256), (5, 3125), (6, 46656), (7, 823543), (8, 16777216), (9, 387420489), (10, 10000000000)])\n",
      "dict_values([1, 4, 27, 256, 3125, 46656, 823543, 16777216, 387420489, 10000000000])\n"
     ]
    }
   ],
   "source": [
    "#some method of dictionary\n",
    "dic = {x : x ** x for x in range(1,11)}\n",
    "print(dic.keys())\n",
    "print(dic.items())\n",
    "print(dic.values())"
   ]
  },
  {
   "cell_type": "code",
   "execution_count": 51,
   "metadata": {},
   "outputs": [
    {
     "name": "stdout",
     "output_type": "stream",
     "text": [
      "phy\n"
     ]
    }
   ],
   "source": [
    "#method 1\n",
    "d = { 'math': 55,'phy':35,'eng':80}\n",
    "pass_marks = 40\n",
    "for x in d:\n",
    "    if d[x] < pass_marks:\n",
    "        print(x)"
   ]
  },
  {
   "cell_type": "code",
   "execution_count": 52,
   "metadata": {},
   "outputs": [
    {
     "name": "stdout",
     "output_type": "stream",
     "text": [
      "phy\n"
     ]
    }
   ],
   "source": [
    "#method 2\n",
    "d = { 'math': 55,'phy':35,'eng':80}\n",
    "pass_marks = 40\n",
    "for key,value in d.items():\n",
    "    if value < pass_marks:\n",
    "        print(key)"
   ]
  },
  {
   "cell_type": "code",
   "execution_count": null,
   "metadata": {},
   "outputs": [],
   "source": [
    "#for adding key and value\n",
    "d[key] = value\n",
    "d.setdefault(key,value)"
   ]
  }
 ],
 "metadata": {
  "kernelspec": {
   "display_name": "Python 3",
   "language": "python",
   "name": "python3"
  },
  "language_info": {
   "codemirror_mode": {
    "name": "ipython",
    "version": 3
   },
   "file_extension": ".py",
   "mimetype": "text/x-python",
   "name": "python",
   "nbconvert_exporter": "python",
   "pygments_lexer": "ipython3",
   "version": "3.7.4"
  }
 },
 "nbformat": 4,
 "nbformat_minor": 2
}
