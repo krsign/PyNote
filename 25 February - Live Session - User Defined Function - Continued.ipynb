{
 "cells": [
  {
   "cell_type": "code",
   "execution_count": 2,
   "metadata": {},
   "outputs": [
    {
     "name": "stdout",
     "output_type": "stream",
     "text": [
      "Help on method sample in module random:\n",
      "\n",
      "sample(population, k) method of random.Random instance\n",
      "    Chooses k unique random elements from a population sequence or set.\n",
      "    \n",
      "    Returns a new list containing elements from the population while\n",
      "    leaving the original population unchanged.  The resulting list is\n",
      "    in selection order so that all sub-slices will also be valid random\n",
      "    samples.  This allows raffle winners (the sample) to be partitioned\n",
      "    into grand prize and second place winners (the subslices).\n",
      "    \n",
      "    Members of the population need not be hashable or unique.  If the\n",
      "    population contains repeats, then each occurrence is a possible\n",
      "    selection in the sample.\n",
      "    \n",
      "    To choose a sample in a range of integers, use range as an argument.\n",
      "    This is especially fast and space efficient for sampling from a\n",
      "    large population:   sample(range(10000000), 60)\n",
      "\n"
     ]
    }
   ],
   "source": [
    "import random\n",
    "help(random.sample)"
   ]
  },
  {
   "cell_type": "code",
   "execution_count": 25,
   "metadata": {},
   "outputs": [
    {
     "name": "stdout",
     "output_type": "stream",
     "text": [
      "#28n8\n"
     ]
    }
   ],
   "source": [
    "import random\n",
    "def gen_password(k = 8):\n",
    "    \n",
    "    lower = str(chr(random.randint(ord('a'),ord('z'))))\n",
    "    upper = str(chr(random.randint(ord('A'),ord('Z'))))\n",
    "    \n",
    "    char = ['!','@','#','$','&']\n",
    "    special = str(random.choice(char))\n",
    "    \n",
    "    digit = str(random.randint(10000,99999))\n",
    "    \n",
    "    merge = lower + upper + special + digit\n",
    "    \n",
    "    password = ''.join(random.sample(merge,k))\n",
    "    \n",
    "    return password\n",
    "       \n",
    "print(gen_password(5))"
   ]
  },
  {
   "cell_type": "code",
   "execution_count": null,
   "metadata": {},
   "outputs": [],
   "source": [
    "parameter passing technique:\n",
    "    - Positional -> total no. of args in func def and func call should be same,sequence\n",
    "    - Default - > assign default value to args in func\n",
    "    - keyword args -> \n",
    "    - variable length positional args"
   ]
  },
  {
   "cell_type": "code",
   "execution_count": 1,
   "metadata": {},
   "outputs": [
    {
     "name": "stdout",
     "output_type": "stream",
     "text": [
      "True\n"
     ]
    }
   ],
   "source": [
    "def login(username,password):\n",
    "    if username == 'abc' and password == 'abc@123':\n",
    "        return True\n",
    "    else:\n",
    "        return False\n",
    "print(login(password='abc@123',username = 'abc'))"
   ]
  },
  {
   "cell_type": "code",
   "execution_count": 28,
   "metadata": {},
   "outputs": [
    {
     "ename": "TypeError",
     "evalue": "'en' is an invalid keyword argument for print()",
     "output_type": "error",
     "traceback": [
      "\u001b[0;31m---------------------------------------------------------------------------\u001b[0m",
      "\u001b[0;31mTypeError\u001b[0m                                 Traceback (most recent call last)",
      "\u001b[0;32m<ipython-input-28-6e3767a87d56>\u001b[0m in \u001b[0;36m<module>\u001b[0;34m\u001b[0m\n\u001b[0;32m----> 1\u001b[0;31m \u001b[0mprint\u001b[0m\u001b[0;34m(\u001b[0m\u001b[0;36m10\u001b[0m\u001b[0;34m,\u001b[0m\u001b[0men\u001b[0m\u001b[0;34m=\u001b[0m\u001b[0;34m' '\u001b[0m\u001b[0;34m)\u001b[0m\u001b[0;34m\u001b[0m\u001b[0;34m\u001b[0m\u001b[0m\n\u001b[0m\u001b[1;32m      2\u001b[0m \u001b[0mprint\u001b[0m\u001b[0;34m(\u001b[0m\u001b[0;34m'Python'\u001b[0m\u001b[0;34m)\u001b[0m\u001b[0;34m\u001b[0m\u001b[0;34m\u001b[0m\u001b[0m\n",
      "\u001b[0;31mTypeError\u001b[0m: 'en' is an invalid keyword argument for print()"
     ]
    }
   ],
   "source": [
    "print(10,en=' ')\n",
    "print('Python')"
   ]
  },
  {
   "cell_type": "code",
   "execution_count": 29,
   "metadata": {},
   "outputs": [
    {
     "name": "stdout",
     "output_type": "stream",
     "text": [
      "Help on built-in function print in module builtins:\n",
      "\n",
      "print(...)\n",
      "    print(value, ..., sep=' ', end='\\n', file=sys.stdout, flush=False)\n",
      "    \n",
      "    Prints the values to a stream, or to sys.stdout by default.\n",
      "    Optional keyword arguments:\n",
      "    file:  a file-like object (stream); defaults to the current sys.stdout.\n",
      "    sep:   string inserted between values, default a space.\n",
      "    end:   string appended after the last value, default a newline.\n",
      "    flush: whether to forcibly flush the stream.\n",
      "\n"
     ]
    }
   ],
   "source": [
    "help(print)"
   ]
  },
  {
   "cell_type": "code",
   "execution_count": 33,
   "metadata": {},
   "outputs": [
    {
     "name": "stdout",
     "output_type": "stream",
     "text": [
      "600\n",
      "600\n",
      "600\n"
     ]
    }
   ],
   "source": [
    "def add(n1,n2,n3):\n",
    "    return n1 + n2 + n3\n",
    "\n",
    "print(add(100,200,300))\n",
    "print(add(n1 = 100,n2 = 200,n3 = 300))\n",
    "# print(add(n1 = 100,200,300))\n",
    "print(add(100,n2 = 200,n3 = 300))"
   ]
  },
  {
   "cell_type": "code",
   "execution_count": null,
   "metadata": {},
   "outputs": [],
   "source": [
    "1. positional : no of agrs same in func def and functiona call,sequencial\n",
    "2. default : func def = default value\n",
    "3. keyword : in func use same args name which used in func def,sequence can be changes\n",
    "4. variable lenght positional : *args > tuple\n",
    "5. varible lenght keyword : **kwargs > dict\n",
    "6. unpacking : pos **: keyword"
   ]
  },
  {
   "cell_type": "code",
   "execution_count": 36,
   "metadata": {},
   "outputs": [
    {
     "ename": "SyntaxError",
     "evalue": "non-default argument follows default argument (<ipython-input-36-820dfff2c978>, line 1)",
     "output_type": "error",
     "traceback": [
      "\u001b[0;36m  File \u001b[0;32m\"<ipython-input-36-820dfff2c978>\"\u001b[0;36m, line \u001b[0;32m1\u001b[0m\n\u001b[0;31m    def add(n1 = 0,n2,n3):\u001b[0m\n\u001b[0m           ^\u001b[0m\n\u001b[0;31mSyntaxError\u001b[0m\u001b[0;31m:\u001b[0m non-default argument follows default argument\n"
     ]
    }
   ],
   "source": [
    "def add(n1 = 0,n2,n3):\n",
    "    return n1 + n2 + n3\n",
    "\n",
    "print(add(100,n2 = 200,n3 = 300))"
   ]
  },
  {
   "cell_type": "code",
   "execution_count": 38,
   "metadata": {},
   "outputs": [
    {
     "name": "stdout",
     "output_type": "stream",
     "text": [
      "500\n"
     ]
    }
   ],
   "source": [
    "def add(n2,n3,n1 = 0,):\n",
    "    return n1 + n2 + n3\n",
    "\n",
    "print(add(n2 = 200,n3 = 300))"
   ]
  },
  {
   "cell_type": "code",
   "execution_count": 41,
   "metadata": {},
   "outputs": [
    {
     "name": "stdout",
     "output_type": "stream",
     "text": [
      "100 200 300\n",
      "600\n",
      "0 0 0\n",
      "0\n"
     ]
    },
    {
     "ename": "TypeError",
     "evalue": "add() takes from 0 to 3 positional arguments but 5 were given",
     "output_type": "error",
     "traceback": [
      "\u001b[0;31m---------------------------------------------------------------------------\u001b[0m",
      "\u001b[0;31mTypeError\u001b[0m                                 Traceback (most recent call last)",
      "\u001b[0;32m<ipython-input-41-0fc28a9ad9a4>\u001b[0m in \u001b[0;36m<module>\u001b[0;34m\u001b[0m\n\u001b[1;32m      5\u001b[0m \u001b[0mprint\u001b[0m\u001b[0;34m(\u001b[0m\u001b[0madd\u001b[0m\u001b[0;34m(\u001b[0m\u001b[0;36m100\u001b[0m\u001b[0;34m,\u001b[0m\u001b[0;36m200\u001b[0m\u001b[0;34m,\u001b[0m\u001b[0;36m300\u001b[0m\u001b[0;34m)\u001b[0m\u001b[0;34m)\u001b[0m\u001b[0;34m\u001b[0m\u001b[0;34m\u001b[0m\u001b[0m\n\u001b[1;32m      6\u001b[0m \u001b[0mprint\u001b[0m\u001b[0;34m(\u001b[0m\u001b[0madd\u001b[0m\u001b[0;34m(\u001b[0m\u001b[0;34m)\u001b[0m\u001b[0;34m)\u001b[0m\u001b[0;34m\u001b[0m\u001b[0;34m\u001b[0m\u001b[0m\n\u001b[0;32m----> 7\u001b[0;31m \u001b[0mprint\u001b[0m\u001b[0;34m(\u001b[0m\u001b[0madd\u001b[0m\u001b[0;34m(\u001b[0m\u001b[0;36m100\u001b[0m\u001b[0;34m,\u001b[0m\u001b[0;36m200\u001b[0m\u001b[0;34m,\u001b[0m\u001b[0;36m300\u001b[0m\u001b[0;34m,\u001b[0m\u001b[0;36m400\u001b[0m\u001b[0;34m,\u001b[0m\u001b[0;36m500\u001b[0m\u001b[0;34m)\u001b[0m\u001b[0;34m)\u001b[0m\u001b[0;34m\u001b[0m\u001b[0;34m\u001b[0m\u001b[0m\n\u001b[0m",
      "\u001b[0;31mTypeError\u001b[0m: add() takes from 0 to 3 positional arguments but 5 were given"
     ]
    }
   ],
   "source": [
    "def add(n1=0,n2=0,n3=0):\n",
    "    print(n1,n2,n3)\n",
    "    return n1 + n2 + n3\n",
    "\n",
    "print(add(100,200,300))\n",
    "print(add())\n",
    "print(add(100,200,300,400,500))\n"
   ]
  },
  {
   "cell_type": "code",
   "execution_count": 47,
   "metadata": {},
   "outputs": [
    {
     "name": "stdout",
     "output_type": "stream",
     "text": [
      "()\n",
      "0\n",
      "(100, 200, 300)\n",
      "600\n",
      "(100, 200, 300, 400, 500)\n",
      "1500\n",
      "(100, 200, 300, 400, 500, 600, 700)\n",
      "2800\n"
     ]
    }
   ],
   "source": [
    "def add(*args):\n",
    "    print(args)\n",
    "    return sum(args)\n",
    "\n",
    "print(add())\n",
    "print(add(100,200,300))\n",
    "print(add(100,200,300,400,500))\n",
    "print(add(100,200,300,400,500,600,700))"
   ]
  },
  {
   "cell_type": "code",
   "execution_count": 51,
   "metadata": {},
   "outputs": [
    {
     "name": "stdout",
     "output_type": "stream",
     "text": [
      "(100, 200, 300)\n",
      "600\n",
      "()\n",
      "0\n",
      "(100, 200, 300, 400, 500)\n",
      "1500\n"
     ]
    }
   ],
   "source": [
    "def add(*args,n1=0,n2=0):\n",
    "    print(args)\n",
    "    return sum(args)\n",
    "\n",
    "print(add(100,200,300))\n",
    "print(add())\n",
    "print(add(100,200,300,400,500))\n",
    "\n"
   ]
  },
  {
   "cell_type": "code",
   "execution_count": null,
   "metadata": {},
   "outputs": [],
   "source": [
    "username \n",
    "email (optional)\n",
    "contact (optional)\n",
    "password"
   ]
  },
  {
   "cell_type": "code",
   "execution_count": null,
   "metadata": {},
   "outputs": [],
   "source": [
    "1. username,email,contact,password\n",
    "2. username,email,password\n",
    "3. username,contact,password"
   ]
  },
  {
   "cell_type": "code",
   "execution_count": 59,
   "metadata": {},
   "outputs": [
    {
     "name": "stdout",
     "output_type": "stream",
     "text": [
      "abc@123\n",
      "abc\n",
      "abc@123\n",
      "abc\n",
      "None\n",
      "abc\n"
     ]
    }
   ],
   "source": [
    "def registration(**kwargs):\n",
    "#     print(kwargs)\n",
    "    print(kwargs.get('email'))\n",
    "    print(kwargs.get('username'))\n",
    "registration(username='abc',email='abc@123',contact=9102945725,password='abc@123')\n",
    "registration(username='abc',email='abc@123',password='abc@123')\n",
    "registration(username='abc',contact=9102945725,password='abc@123')"
   ]
  },
  {
   "cell_type": "code",
   "execution_count": 61,
   "metadata": {},
   "outputs": [
    {
     "name": "stdout",
     "output_type": "stream",
     "text": [
      "(10, 20, 300) {'username': 'abc', 'email': 'abc@123', 'contact': 9102945725, 'password': 'abc@123'}\n",
      "() {'username': 'abc', 'email': 'abc@123', 'password': 'abc@123'}\n",
      "() {'username': 'abc', 'contact': 9102945725, 'password': 'abc@123'}\n"
     ]
    }
   ],
   "source": [
    "def registration(*args,**kwargs):\n",
    "    print(args,kwargs)\n",
    "    \n",
    "registration(10,20,300,username='abc',email='abc@123',contact=9102945725,password='abc@123')\n",
    "registration(username='abc',email='abc@123',password='abc@123')\n",
    "registration(username='abc',contact=9102945725,password='abc@123')"
   ]
  },
  {
   "cell_type": "code",
   "execution_count": 65,
   "metadata": {},
   "outputs": [
    {
     "name": "stdout",
     "output_type": "stream",
     "text": [
      "(30, 40) {'username': 'abc', 'email': 'abc@123', 'contact': 9102945725, 'password': 'abc@123'}\n"
     ]
    },
    {
     "ename": "TypeError",
     "evalue": "registration() missing 2 required positional arguments: 'n1' and 'n2'",
     "output_type": "error",
     "traceback": [
      "\u001b[0;31m---------------------------------------------------------------------------\u001b[0m",
      "\u001b[0;31mTypeError\u001b[0m                                 Traceback (most recent call last)",
      "\u001b[0;32m<ipython-input-65-dc97580494a9>\u001b[0m in \u001b[0;36m<module>\u001b[0;34m\u001b[0m\n\u001b[1;32m      3\u001b[0m \u001b[0;34m\u001b[0m\u001b[0m\n\u001b[1;32m      4\u001b[0m \u001b[0mregistration\u001b[0m\u001b[0;34m(\u001b[0m\u001b[0;36m10\u001b[0m\u001b[0;34m,\u001b[0m\u001b[0;36m20\u001b[0m\u001b[0;34m,\u001b[0m\u001b[0;36m30\u001b[0m\u001b[0;34m,\u001b[0m\u001b[0;36m40\u001b[0m\u001b[0;34m,\u001b[0m\u001b[0musername\u001b[0m\u001b[0;34m=\u001b[0m\u001b[0;34m'abc'\u001b[0m\u001b[0;34m,\u001b[0m\u001b[0memail\u001b[0m\u001b[0;34m=\u001b[0m\u001b[0;34m'abc@123'\u001b[0m\u001b[0;34m,\u001b[0m\u001b[0mcontact\u001b[0m\u001b[0;34m=\u001b[0m\u001b[0;36m9102945725\u001b[0m\u001b[0;34m,\u001b[0m\u001b[0mpassword\u001b[0m\u001b[0;34m=\u001b[0m\u001b[0;34m'abc@123'\u001b[0m\u001b[0;34m)\u001b[0m\u001b[0;34m\u001b[0m\u001b[0;34m\u001b[0m\u001b[0m\n\u001b[0;32m----> 5\u001b[0;31m \u001b[0mregistration\u001b[0m\u001b[0;34m(\u001b[0m\u001b[0musername\u001b[0m\u001b[0;34m=\u001b[0m\u001b[0;34m'abc'\u001b[0m\u001b[0;34m,\u001b[0m\u001b[0memail\u001b[0m\u001b[0;34m=\u001b[0m\u001b[0;34m'abc@123'\u001b[0m\u001b[0;34m,\u001b[0m\u001b[0mpassword\u001b[0m\u001b[0;34m=\u001b[0m\u001b[0;34m'abc@123'\u001b[0m\u001b[0;34m)\u001b[0m\u001b[0;34m\u001b[0m\u001b[0;34m\u001b[0m\u001b[0m\n\u001b[0m\u001b[1;32m      6\u001b[0m \u001b[0mregistration\u001b[0m\u001b[0;34m(\u001b[0m\u001b[0musername\u001b[0m\u001b[0;34m=\u001b[0m\u001b[0;34m'abc'\u001b[0m\u001b[0;34m,\u001b[0m\u001b[0mcontact\u001b[0m\u001b[0;34m=\u001b[0m\u001b[0;36m9102945725\u001b[0m\u001b[0;34m,\u001b[0m\u001b[0mpassword\u001b[0m\u001b[0;34m=\u001b[0m\u001b[0;34m'abc@123'\u001b[0m\u001b[0;34m)\u001b[0m\u001b[0;34m\u001b[0m\u001b[0;34m\u001b[0m\u001b[0m\n",
      "\u001b[0;31mTypeError\u001b[0m: registration() missing 2 required positional arguments: 'n1' and 'n2'"
     ]
    }
   ],
   "source": [
    "def registration(n1,n2,*args,**kwargs):\n",
    "    print(args,kwargs)\n",
    "    \n",
    "registration(10,20,30,40,username='abc',email='abc@123',contact=9102945725,password='abc@123')\n",
    "registration(username='abc',email='abc@123',password='abc@123')\n",
    "registration(username='abc',contact=9102945725,password='abc@123')"
   ]
  },
  {
   "cell_type": "code",
   "execution_count": 66,
   "metadata": {},
   "outputs": [
    {
     "name": "stdout",
     "output_type": "stream",
     "text": [
      "100 200 300\n"
     ]
    }
   ],
   "source": [
    "#unpacking\n",
    "\n",
    "def add(n1,n2,n3):\n",
    "    print(n1,n2,n3)\n",
    "l = [100,200,300]\n",
    "add(*l)"
   ]
  },
  {
   "cell_type": "code",
   "execution_count": 69,
   "metadata": {},
   "outputs": [
    {
     "name": "stdout",
     "output_type": "stream",
     "text": [
      "n1 n2 n3\n",
      "100 200 300\n"
     ]
    }
   ],
   "source": [
    "#unpacking\n",
    "#should have same argument as key\n",
    "\n",
    "def add(n1,n2,n3):\n",
    "    print(n1,n2,n3)\n",
    "\n",
    "    \n",
    "d = {'n1':100,'n2':200,'n3':300}\n",
    "add(*d)\n",
    "add(**d)"
   ]
  },
  {
   "cell_type": "code",
   "execution_count": 72,
   "metadata": {},
   "outputs": [
    {
     "name": "stdout",
     "output_type": "stream",
     "text": [
      "Python\n"
     ]
    }
   ],
   "source": [
    "def printval():\n",
    "    print(s)\n",
    "    \n",
    "s = 'Python'\n",
    "printval()"
   ]
  },
  {
   "cell_type": "code",
   "execution_count": 77,
   "metadata": {},
   "outputs": [
    {
     "ename": "NameError",
     "evalue": "name 's1' is not defined",
     "output_type": "error",
     "traceback": [
      "\u001b[0;31m---------------------------------------------------------------------------\u001b[0m",
      "\u001b[0;31mNameError\u001b[0m                                 Traceback (most recent call last)",
      "\u001b[0;32m<ipython-input-77-0fcd760981a8>\u001b[0m in \u001b[0;36m<module>\u001b[0;34m\u001b[0m\n\u001b[1;32m      2\u001b[0m     \u001b[0ms1\u001b[0m \u001b[0;34m=\u001b[0m \u001b[0;34m'Python'\u001b[0m\u001b[0;34m\u001b[0m\u001b[0;34m\u001b[0m\u001b[0m\n\u001b[1;32m      3\u001b[0m \u001b[0mprintval\u001b[0m\u001b[0;34m(\u001b[0m\u001b[0;34m)\u001b[0m\u001b[0;34m\u001b[0m\u001b[0;34m\u001b[0m\u001b[0m\n\u001b[0;32m----> 4\u001b[0;31m \u001b[0mprint\u001b[0m\u001b[0;34m(\u001b[0m\u001b[0ms1\u001b[0m\u001b[0;34m)\u001b[0m\u001b[0;34m\u001b[0m\u001b[0;34m\u001b[0m\u001b[0m\n\u001b[0m",
      "\u001b[0;31mNameError\u001b[0m: name 's1' is not defined"
     ]
    }
   ],
   "source": [
    "def printval():\n",
    "    s1 = 'Python'\n",
    "printval()   \n",
    "print(s1)"
   ]
  },
  {
   "cell_type": "code",
   "execution_count": 78,
   "metadata": {},
   "outputs": [
    {
     "name": "stdout",
     "output_type": "stream",
     "text": [
      "inside func 1 500\n",
      "inside func 1000\n",
      "outside func 1000\n"
     ]
    }
   ],
   "source": [
    "def printval():\n",
    "    global num5\n",
    "    print('inside func 1',num5)\n",
    "    num5 = 1000\n",
    "    print('inside func',num5)\n",
    "    \n",
    "\n",
    "num5 = 500\n",
    "printval()\n",
    "#modifying the refrecence value \n",
    "print('outside func',num5)"
   ]
  },
  {
   "cell_type": "code",
   "execution_count": null,
   "metadata": {},
   "outputs": [],
   "source": [
    "any variable u define inside func will treated as local vairble"
   ]
  }
 ],
 "metadata": {
  "kernelspec": {
   "display_name": "Python 3",
   "language": "python",
   "name": "python3"
  },
  "language_info": {
   "codemirror_mode": {
    "name": "ipython",
    "version": 3
   },
   "file_extension": ".py",
   "mimetype": "text/x-python",
   "name": "python",
   "nbconvert_exporter": "python",
   "pygments_lexer": "ipython3",
   "version": "3.7.4"
  }
 },
 "nbformat": 4,
 "nbformat_minor": 2
}
