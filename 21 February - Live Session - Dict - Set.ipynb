{
 "cells": [
  {
   "cell_type": "code",
   "execution_count": 5,
   "metadata": {},
   "outputs": [
    {
     "data": {
      "text/plain": [
       "<zip at 0x10ee53cd0>"
      ]
     },
     "execution_count": 5,
     "metadata": {},
     "output_type": "execute_result"
    }
   ],
   "source": [
    "l1 = [1,2,3,4,5]\n",
    "l2 = [1,4,9,16,25]\n",
    "zip(l1,l2)"
   ]
  },
  {
   "cell_type": "code",
   "execution_count": 4,
   "metadata": {},
   "outputs": [
    {
     "name": "stdout",
     "output_type": "stream",
     "text": [
      "{1: 1, 2: 2, 3: 3, 4: 4, 5: 5}\n"
     ]
    }
   ],
   "source": [
    "l1 = [1,2,3,4,5]\n",
    "l2 = [1,4,9,16,25]\n",
    "t  = dict(zip(l1,l1))\n",
    "print(t)"
   ]
  },
  {
   "cell_type": "code",
   "execution_count": 1,
   "metadata": {},
   "outputs": [
    {
     "name": "stdout",
     "output_type": "stream",
     "text": [
      "(1, 100)\n",
      "(2, 200)\n",
      "(3, 300)\n",
      "(4, 400)\n",
      "(5, 500)\n",
      "(6, 600)\n",
      "(7, 700)\n",
      "(8, 800)\n",
      "(9, 900)\n"
     ]
    }
   ],
   "source": [
    "l1 = [[1,2,3],[4,5,6],[7,8,9]]\n",
    "l2 = [[100,200,300],[400,500,600],[700,800,900]]\n",
    "for x in zip(l1,l2):\n",
    "    for y in zip(x[0],x[1]):\n",
    "        print(y)"
   ]
  },
  {
   "cell_type": "code",
   "execution_count": 6,
   "metadata": {},
   "outputs": [
    {
     "name": "stdout",
     "output_type": "stream",
     "text": [
      "4542716976 4542714576\n"
     ]
    }
   ],
   "source": [
    "d1 = {1:1,2:4,3:9}\n",
    "d2 = d1.copy()\n",
    "print(id(d1),id(d2))"
   ]
  },
  {
   "cell_type": "code",
   "execution_count": 8,
   "metadata": {},
   "outputs": [
    {
     "name": "stdout",
     "output_type": "stream",
     "text": [
      "{1: 1, 2: 4, 3: 9, 4: 16, 5: 25}\n"
     ]
    }
   ],
   "source": [
    "#update key\n",
    "\n",
    "d1 = {1:1,2:4,3:9}\n",
    "d2 = {4:16,5:25}\n",
    "d1.update(d2)\n",
    "print(d1)"
   ]
  },
  {
   "cell_type": "markdown",
   "metadata": {},
   "source": [
    "# Set"
   ]
  },
  {
   "cell_type": "code",
   "execution_count": null,
   "metadata": {},
   "outputs": [],
   "source": [
    "set :\n",
    "        - {}\n",
    "        - all the element should be unique\n",
    "        - all the elements should be immutable\n",
    "        - as dict {10:None,20:None,30:None}\n",
    "        - mutable - add and update\n",
    "        - unordered => \n",
    "        - not support indexing"
   ]
  },
  {
   "cell_type": "code",
   "execution_count": 9,
   "metadata": {},
   "outputs": [
    {
     "name": "stdout",
     "output_type": "stream",
     "text": [
      "<class 'dict'>\n"
     ]
    }
   ],
   "source": [
    "d = {}\n",
    "print(type(d))"
   ]
  },
  {
   "cell_type": "code",
   "execution_count": 10,
   "metadata": {},
   "outputs": [
    {
     "name": "stdout",
     "output_type": "stream",
     "text": [
      "<class 'set'>\n"
     ]
    }
   ],
   "source": [
    "d = set()\n",
    "print(type(d))"
   ]
  },
  {
   "cell_type": "code",
   "execution_count": 11,
   "metadata": {},
   "outputs": [
    {
     "name": "stdout",
     "output_type": "stream",
     "text": [
      "{2, 35, 4, 5, 11, 22}\n"
     ]
    }
   ],
   "source": [
    "l = [11,22,2,4,5,35,5]\n",
    "s = set(l)\n",
    "print(s)"
   ]
  },
  {
   "cell_type": "code",
   "execution_count": null,
   "metadata": {},
   "outputs": [],
   "source": [
    "s1 = {10,20,30,40,50}\n",
    "\n",
    "s2. = {50,50,60,70,80}\n",
    "\n",
    "s1 union s2 : {10,20,30,40,50,60,70,80}\n",
    "    \n",
    "s1 intersection s2 : {40,50}\n",
    "    \n",
    "s1 difference s2 : {10,20,30}\n",
    "\n",
    "s1 symm diff s2 : {10,20,30,60,70,80}\n",
    "    s3 : {10,20}\n",
    "        -s3 is subset of s1\n",
    "        -s3 is supperset of s3\n",
    "        "
   ]
  },
  {
   "cell_type": "code",
   "execution_count": 12,
   "metadata": {},
   "outputs": [
    {
     "name": "stdout",
     "output_type": "stream",
     "text": [
      "{70, 40, 10, 80, 50, 20, 60, 30}\n"
     ]
    }
   ],
   "source": [
    "s1 = {10,20,30,40,50}\n",
    "\n",
    "s2 = {50,50,60,70,80}\n",
    "\n",
    "s3 = s1.union(s2)\n",
    "print(s3)"
   ]
  },
  {
   "cell_type": "code",
   "execution_count": 15,
   "metadata": {},
   "outputs": [
    {
     "name": "stdout",
     "output_type": "stream",
     "text": [
      "{40, 50}\n"
     ]
    }
   ],
   "source": [
    "s1 = {10,20,30,40,50}\n",
    "\n",
    "s2 = {40,50,60,70,80}\n",
    "s3 = s1.intersection(s2)\n",
    "print(s3)"
   ]
  },
  {
   "cell_type": "code",
   "execution_count": 16,
   "metadata": {},
   "outputs": [
    {
     "name": "stdout",
     "output_type": "stream",
     "text": [
      "{10, 20, 30}\n"
     ]
    }
   ],
   "source": [
    "s1 = {10,20,30,40,50}\n",
    "\n",
    "s2 = {40,50,60,70,80}\n",
    "s3 = s1.difference(s2)\n",
    "print(s3)"
   ]
  },
  {
   "cell_type": "code",
   "execution_count": 17,
   "metadata": {},
   "outputs": [
    {
     "name": "stdout",
     "output_type": "stream",
     "text": [
      "{80, 20, 70, 10, 60, 30}\n"
     ]
    }
   ],
   "source": [
    "s1 = {10,20,30,40,50}\n",
    "\n",
    "s2 = {40,50,60,70,80}\n",
    "s3 = s1.symmetric_difference(s2)\n",
    "print(s3)"
   ]
  },
  {
   "cell_type": "code",
   "execution_count": 25,
   "metadata": {},
   "outputs": [
    {
     "name": "stdout",
     "output_type": "stream",
     "text": [
      "[10, 20, 30, 40, 45, 78, 100, 200, 245, 300]\n"
     ]
    }
   ],
   "source": [
    "l1 = [10,245,20,45,78,10,20,30,40]\n",
    "l2 = [100,200,300,10,20,78,20,30]\n",
    "s1 = set(l1)\n",
    "s2 = set(l2)\n",
    "s3 = sorted(s1.union(s2))\n",
    "print(s3)"
   ]
  },
  {
   "cell_type": "code",
   "execution_count": 1,
   "metadata": {},
   "outputs": [
    {
     "name": "stdout",
     "output_type": "stream",
     "text": [
      "[10, 20, 30, 40, 45, 78, 100, 200, 245, 300]\n"
     ]
    }
   ],
   "source": [
    "l1 = [10,245,20,45,78,10,20,30,40]\n",
    "l2 = [100,200,300,10,20,78,20,30]\n",
    "l3 = l1 + l2\n",
    "s = set(l3)\n",
    "print(sorted(s))"
   ]
  },
  {
   "cell_type": "code",
   "execution_count": 6,
   "metadata": {},
   "outputs": [
    {
     "name": "stdout",
     "output_type": "stream",
     "text": [
      "{'d', 'a', 'c', 'b', 's'}\n",
      "a 6\n"
     ]
    }
   ],
   "source": [
    "s = 'aabbbccccddddssssaaaa'\n",
    "s1 = set(s)\n",
    "print(s1)\n",
    "max_count = 0\n",
    "max_char = ''\n",
    "for char in s1:\n",
    "    if s.count(char) > max_count:\n",
    "        max_char = char\n",
    "        max_count = s.count(char)\n",
    "        \n",
    "print(max_char,max_count)"
   ]
  },
  {
   "cell_type": "code",
   "execution_count": 7,
   "metadata": {},
   "outputs": [
    {
     "name": "stdout",
     "output_type": "stream",
     "text": [
      "['__and__', '__class__', '__contains__', '__delattr__', '__dir__', '__doc__', '__eq__', '__format__', '__ge__', '__getattribute__', '__gt__', '__hash__', '__iand__', '__init__', '__init_subclass__', '__ior__', '__isub__', '__iter__', '__ixor__', '__le__', '__len__', '__lt__', '__ne__', '__new__', '__or__', '__rand__', '__reduce__', '__reduce_ex__', '__repr__', '__ror__', '__rsub__', '__rxor__', '__setattr__', '__sizeof__', '__str__', '__sub__', '__subclasshook__', '__xor__', 'add', 'clear', 'copy', 'difference', 'difference_update', 'discard', 'intersection', 'intersection_update', 'isdisjoint', 'issubset', 'issuperset', 'pop', 'remove', 'symmetric_difference', 'symmetric_difference_update', 'union', 'update']\n"
     ]
    }
   ],
   "source": [
    "print(dir(set))"
   ]
  },
  {
   "cell_type": "code",
   "execution_count": 9,
   "metadata": {},
   "outputs": [
    {
     "name": "stdout",
     "output_type": "stream",
     "text": [
      "{10}\n"
     ]
    }
   ],
   "source": [
    "s = set()\n",
    "s.add(10)\n",
    "print(s)"
   ]
  },
  {
   "cell_type": "code",
   "execution_count": null,
   "metadata": {},
   "outputs": [],
   "source": [
    "s = set()\n",
    "s.add(10)\n",
    "print(s)"
   ]
  },
  {
   "cell_type": "code",
   "execution_count": 10,
   "metadata": {},
   "outputs": [
    {
     "name": "stdout",
     "output_type": "stream",
     "text": [
      "{50, 10, 100, 20, 200, 40, 30}\n"
     ]
    }
   ],
   "source": [
    "s1 = {100,200}\n",
    "s2 = {10,20,30,40,50}\n",
    "s1.update(s2)\n",
    "print(s1)"
   ]
  },
  {
   "cell_type": "code",
   "execution_count": 11,
   "metadata": {},
   "outputs": [
    {
     "name": "stdout",
     "output_type": "stream",
     "text": [
      "{40, 50}\n"
     ]
    }
   ],
   "source": [
    "# it will update in original set\n",
    "s1 = {10,20,30,40,50}\n",
    "\n",
    "s2 = {40,50,60,70,80}\n",
    "\n",
    "s1.intersection_update(s2)\n",
    "print(s1)"
   ]
  },
  {
   "cell_type": "code",
   "execution_count": 12,
   "metadata": {},
   "outputs": [
    {
     "name": "stdout",
     "output_type": "stream",
     "text": [
      "{10, 20, 30}\n"
     ]
    }
   ],
   "source": [
    "# here ,it will also update permanent difference in s1\n",
    "s1 = {10,20,30,40,50}\n",
    "\n",
    "s2 = {40,50,60,70,80}\n",
    "\n",
    "s1.difference_update(s2)\n",
    "print(s1)"
   ]
  },
  {
   "cell_type": "code",
   "execution_count": null,
   "metadata": {},
   "outputs": [],
   "source": [
    "s1 = {10,20,30,40,50}\n",
    "\n",
    "s2 = {40,50,60,70,80}\n"
   ]
  },
  {
   "cell_type": "code",
   "execution_count": null,
   "metadata": {},
   "outputs": [],
   "source": [
    "delete:\n",
    "    - del\n",
    "    - clear\n",
    "    - pop\n",
    "    - discard\n",
    "    -remove"
   ]
  },
  {
   "cell_type": "code",
   "execution_count": 13,
   "metadata": {},
   "outputs": [
    {
     "name": "stdout",
     "output_type": "stream",
     "text": [
      "{10, 50, 20, 60, 30} 40\n"
     ]
    }
   ],
   "source": [
    "s = {10,20,30,40,50,60}\n",
    "r = s.pop()\n",
    "print(s,r)\n",
    "# not advise to use"
   ]
  },
  {
   "cell_type": "code",
   "execution_count": 16,
   "metadata": {},
   "outputs": [
    {
     "name": "stdout",
     "output_type": "stream",
     "text": [
      "{40, 10, 50, 20, 60, 30}\n",
      "{40, 10, 50, 20, 60}\n"
     ]
    }
   ],
   "source": [
    "s = {10,20,30,40,50,60}\n",
    "print(s)\n",
    "s.remove(30)\n",
    "# s.remove(300) throw an error as given number\n",
    "print(s)\n"
   ]
  },
  {
   "cell_type": "code",
   "execution_count": 17,
   "metadata": {},
   "outputs": [
    {
     "name": "stdout",
     "output_type": "stream",
     "text": [
      "{40, 10, 50, 20, 60, 30}\n",
      "{40, 10, 50, 20, 60} None\n"
     ]
    }
   ],
   "source": [
    "s = {10,20,30,40,50,60}\n",
    "print(s)\n",
    "r = s.discard(30)\n",
    "print(s,r)"
   ]
  },
  {
   "cell_type": "markdown",
   "metadata": {},
   "source": [
    "List                                Dic                                     Set\n",
    "\n",
    "\n",
    "Add:                                Add:                                    Add:\n",
    "    append                              d[key] = value                           add()\n",
    "    insert                              setdefault()                             \n",
    "    extend                                      \n",
    "    \n",
    "\n",
    "Update:\n",
    "       l[index] = new_value            s[key] = value.                           update,intersection_update\n",
    "       \n",
    "       \n",
    "Del:                                 Del:                                   Del:\n",
    "    clear()                             popitem()                               remove()\n",
    "    del                                 pop()                                   discard()\n",
    "                                        del                                     pop()\n",
    "    pop()\n",
    "    remove()\n",
    "    "
   ]
  }
 ],
 "metadata": {
  "kernelspec": {
   "display_name": "Python 3",
   "language": "python",
   "name": "python3"
  },
  "language_info": {
   "codemirror_mode": {
    "name": "ipython",
    "version": 3
   },
   "file_extension": ".py",
   "mimetype": "text/x-python",
   "name": "python",
   "nbconvert_exporter": "python",
   "pygments_lexer": "ipython3",
   "version": "3.7.4"
  }
 },
 "nbformat": 4,
 "nbformat_minor": 2
}
