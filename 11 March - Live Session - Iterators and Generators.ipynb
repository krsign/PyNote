{
 "cells": [
  {
   "cell_type": "code",
   "execution_count": 2,
   "metadata": {},
   "outputs": [],
   "source": [
    "# print(dir(list))\n",
    "#__iter__method"
   ]
  },
  {
   "cell_type": "code",
   "execution_count": 12,
   "metadata": {},
   "outputs": [
    {
     "name": "stdout",
     "output_type": "stream",
     "text": [
      "['__class__', '__delattr__', '__dir__', '__doc__', '__eq__', '__format__', '__ge__', '__getattribute__', '__gt__', '__hash__', '__init__', '__init_subclass__', '__iter__', '__le__', '__length_hint__', '__lt__', '__ne__', '__new__', '__next__', '__reduce__', '__reduce_ex__', '__repr__', '__setattr__', '__setstate__', '__sizeof__', '__str__', '__subclasshook__']\n",
      "<list_iterator object at 0x10a44b390>\n",
      "[30, 40, 50]\n",
      "[10, 20, 30, 40, 50]\n"
     ]
    }
   ],
   "source": [
    "l = [10,20,30,40,50]\n",
    "i = iter(l)\n",
    "print(dir(i))\n",
    "print(i)\n",
    "next(i)\n",
    "next(i)\n",
    "print(list(i))\n",
    "j = iter(l)\n",
    "print(list(j))"
   ]
  },
  {
   "cell_type": "code",
   "execution_count": null,
   "metadata": {},
   "outputs": [],
   "source": [
    "l = [10,20,30,40,50]\n",
    "i = iter(l)\n",
    "print(list(i))"
   ]
  },
  {
   "cell_type": "code",
   "execution_count": 4,
   "metadata": {},
   "outputs": [],
   "source": [
    "import itertools"
   ]
  },
  {
   "cell_type": "code",
   "execution_count": 13,
   "metadata": {},
   "outputs": [
    {
     "name": "stdout",
     "output_type": "stream",
     "text": [
      "[10, 20, 30, 40, 50, 'Python', 'Java', 'C', 100, 101, 102, 103, 104, 105, 106, 107, 108, 109, 110, 111, 112, 113, 114]\n"
     ]
    }
   ],
   "source": [
    "l1 = [10,20,30,40,50]\n",
    "l2 = ['Python','Java','C']\n",
    "l3 = range(100,115)\n",
    "l4 = l1 + l2 + list(l3)\n",
    "print(l4)"
   ]
  },
  {
   "cell_type": "code",
   "execution_count": 14,
   "metadata": {},
   "outputs": [
    {
     "name": "stdout",
     "output_type": "stream",
     "text": [
      "<itertools.chain object at 0x10a1a1750>\n"
     ]
    }
   ],
   "source": [
    "l1 = [10,20,30,40,50]\n",
    "l2 = ['Python','Java','C']\n",
    "l3 = range(100,115)\n",
    "i = itertools.chain(l1,l2,l3)\n",
    "print(i)"
   ]
  },
  {
   "cell_type": "code",
   "execution_count": 19,
   "metadata": {},
   "outputs": [
    {
     "name": "stdout",
     "output_type": "stream",
     "text": [
      "10\n",
      "20\n",
      "30\n",
      "40\n",
      "50\n",
      "Python\n",
      "Java\n",
      "C\n",
      "100\n",
      "101\n",
      "102\n",
      "103\n",
      "104\n",
      "105\n",
      "106\n",
      "107\n",
      "108\n",
      "109\n",
      "110\n",
      "111\n",
      "112\n",
      "113\n",
      "114\n"
     ]
    }
   ],
   "source": [
    "#performance will be much better than above\n",
    "\n",
    "l1 = [10,20,30,40,50]\n",
    "l2 = ['Python','Java','C']\n",
    "l3 = range(100,115)\n",
    "i = itertools.chain(l1,l2,l3)\n",
    "# print(i)\n",
    "print(next(i))\n",
    "for value in i:\n",
    "    print(value)"
   ]
  },
  {
   "cell_type": "code",
   "execution_count": 2,
   "metadata": {
    "scrolled": false
   },
   "outputs": [
    {
     "name": "stdout",
     "output_type": "stream",
     "text": [
      "10\n",
      "20\n",
      "30\n",
      "40\n",
      "50\n",
      "60\n",
      "10\n",
      "20\n",
      "30\n",
      "40\n",
      "50\n",
      "60\n",
      "10\n",
      "20\n",
      "30\n",
      "40\n",
      "50\n",
      "60\n",
      "10\n",
      "20\n"
     ]
    }
   ],
   "source": [
    "#infinite iterator\n",
    "\n",
    "l = [10,20,30,40,50,60]\n",
    "i = itertools.cycle(l)\n",
    "count = 0\n",
    "for value in i:\n",
    "    if count < 20:\n",
    "        print(value)\n",
    "    else:\n",
    "        break \n",
    "    count += 1"
   ]
  },
  {
   "cell_type": "code",
   "execution_count": 10,
   "metadata": {},
   "outputs": [
    {
     "name": "stdout",
     "output_type": "stream",
     "text": [
      "[(10, 20), (10, 30), (20, 30)]\n",
      "[(10, 20), (10, 30), (20, 10), (20, 30), (30, 10), (30, 20)]\n"
     ]
    }
   ],
   "source": [
    "l = [10,20,30]\n",
    "print(list(itertools.combinations(l,2)))\n",
    "print(list(itertools.permutations(l,2)))"
   ]
  },
  {
   "cell_type": "code",
   "execution_count": 12,
   "metadata": {},
   "outputs": [
    {
     "name": "stdout",
     "output_type": "stream",
     "text": [
      "10\n",
      "20\n",
      "30\n",
      "40\n",
      "50\n",
      "Python\n",
      "Java\n",
      "C\n",
      "100\n",
      "101\n",
      "102\n",
      "103\n",
      "104\n",
      "105\n",
      "106\n",
      "107\n",
      "108\n",
      "109\n",
      "110\n",
      "111\n",
      "112\n",
      "113\n",
      "114\n",
      "10\n",
      "20\n",
      "30\n",
      "40\n",
      "50\n",
      "Python\n",
      "Java\n",
      "C\n",
      "100\n",
      "101\n",
      "102\n",
      "103\n",
      "104\n",
      "105\n",
      "106\n",
      "107\n",
      "108\n",
      "109\n",
      "110\n",
      "111\n",
      "112\n",
      "113\n",
      "114\n"
     ]
    }
   ],
   "source": [
    "l1 = [10,20,30,40,50]\n",
    "l2 = ['Python','Java','C']\n",
    "l3 = range(100,115)\n",
    "i = itertools.chain(l1,l2,l3)\n",
    "t = itertools.tee(i,5)\n",
    "for value in t[0]:\n",
    "    print(value)\n",
    "for value in t[1]:\n",
    "    print(value)"
   ]
  },
  {
   "cell_type": "code",
   "execution_count": null,
   "metadata": {},
   "outputs": [],
   "source": [
    "# homework\n",
    "\n",
    "count\n",
    "islice\n",
    "group"
   ]
  },
  {
   "cell_type": "code",
   "execution_count": null,
   "metadata": {},
   "outputs": [],
   "source": [
    "generators :func acting as iterator"
   ]
  },
  {
   "cell_type": "code",
   "execution_count": null,
   "metadata": {},
   "outputs": [],
   "source": [
    "n1 = 0\n",
    "n2 = 1\n",
    "next_num = 1\n",
    "\n",
    "n1 = 1\n",
    "n2 = 1\n",
    "next_num = 2\n",
    "0,1,1,2,3,..."
   ]
  },
  {
   "cell_type": "code",
   "execution_count": 16,
   "metadata": {},
   "outputs": [
    {
     "name": "stdout",
     "output_type": "stream",
     "text": [
      "1\n",
      "2\n",
      "3\n",
      "5\n",
      "8\n"
     ]
    }
   ],
   "source": [
    "def fibo():\n",
    "    n1 = 0\n",
    "    n2 = 1\n",
    "    while(True):\n",
    "        next_num = n1 + n2\n",
    "        # this yield function will become generator function\n",
    "        yield next_num\n",
    "        n1,n2 = n2,next_num\n",
    "g = fibo()\n",
    "print(next(g))\n",
    "print(next(g))\n",
    "print(next(g))\n",
    "print(next(g))\n",
    "print(next(g))"
   ]
  },
  {
   "cell_type": "code",
   "execution_count": null,
   "metadata": {},
   "outputs": [],
   "source": [
    "# generator will maintain the state, it means it will only start when iteration is called"
   ]
  },
  {
   "cell_type": "code",
   "execution_count": 19,
   "metadata": {},
   "outputs": [
    {
     "name": "stdout",
     "output_type": "stream",
     "text": [
      "0\n",
      "1\n",
      "1\n",
      "2\n",
      "3\n"
     ]
    }
   ],
   "source": [
    "def fibo():\n",
    "    n1 = 0\n",
    "    yield n1\n",
    "    \n",
    "    n2 = 1\n",
    "    yield n2\n",
    "    \n",
    "    while(True):\n",
    "        next_num = n1 + n2\n",
    "        # this yield function will become generator function\n",
    "        yield next_num\n",
    "        n1,n2 = n2,next_num\n",
    "g = fibo()\n",
    "print(next(g))\n",
    "print(next(g))\n",
    "print(next(g))\n",
    "print(next(g))\n",
    "print(next(g))"
   ]
  },
  {
   "cell_type": "code",
   "execution_count": 23,
   "metadata": {},
   "outputs": [
    {
     "name": "stdout",
     "output_type": "stream",
     "text": [
      "[0, 1, 1, 2, 3]\n",
      "[5, 8, 13, 21, 34]\n",
      "[55, 89, 144, 233, 377]\n",
      "[610, 987, 1597, 2584, 4181]\n",
      "[6765, 10946, 17711, 28657, 46368]\n"
     ]
    }
   ],
   "source": [
    "#instead of getting one next i want next 5 fibonacci series\n",
    "def fibo():\n",
    "    output = []\n",
    "    n1 = 0\n",
    "    n2 = 1\n",
    "    \n",
    "    output.append(n1)\n",
    "    output.append(n2)\n",
    "    count = 2\n",
    "    \n",
    "    while(True):\n",
    "        next_num = n1 + n2\n",
    "        output.append(next_num)\n",
    "        count += 1\n",
    "        \n",
    "        if count == 5:\n",
    "            yield output\n",
    "            output = []\n",
    "            count = 0\n",
    "        n1,n2 = n2,next_num\n",
    "g = fibo()\n",
    "print(next(g))\n",
    "print(next(g))\n",
    "print(next(g))\n",
    "print(next(g))\n",
    "print(next(g))"
   ]
  },
  {
   "cell_type": "code",
   "execution_count": 25,
   "metadata": {},
   "outputs": [
    {
     "name": "stdout",
     "output_type": "stream",
     "text": [
      "<generator object <genexpr> at 0x11015cd50>\n",
      "100\n"
     ]
    }
   ],
   "source": [
    "l = [10,20,30,40,50]\n",
    "t = (value * value for value in l)\n",
    "print(t)\n",
    "print(next(t))"
   ]
  },
  {
   "cell_type": "code",
   "execution_count": null,
   "metadata": {},
   "outputs": [],
   "source": []
  },
  {
   "cell_type": "code",
   "execution_count": null,
   "metadata": {},
   "outputs": [],
   "source": []
  }
 ],
 "metadata": {
  "kernelspec": {
   "display_name": "Python 3",
   "language": "python",
   "name": "python3"
  },
  "language_info": {
   "codemirror_mode": {
    "name": "ipython",
    "version": 3
   },
   "file_extension": ".py",
   "mimetype": "text/x-python",
   "name": "python",
   "nbconvert_exporter": "python",
   "pygments_lexer": "ipython3",
   "version": "3.7.4"
  }
 },
 "nbformat": 4,
 "nbformat_minor": 2
}
