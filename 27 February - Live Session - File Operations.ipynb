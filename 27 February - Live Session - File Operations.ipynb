{
 "cells": [
  {
   "cell_type": "markdown",
   "metadata": {},
   "source": [
    "    Mode:\n",
    "    r  : read\n",
    "    r+ :\n",
    "        \n",
    "    w  : write\n",
    "    w+ : write and read\n",
    "        \n",
    "    a  : append\n",
    "    a+ : "
   ]
  },
  {
   "cell_type": "code",
   "execution_count": 15,
   "metadata": {},
   "outputs": [
    {
     "name": "stdout",
     "output_type": "stream",
     "text": [
      "New Features\n",
      "Assignment expressions\n",
      "There is new syntax := that assigns values to variables as part of a larger expression. It is affectionately known as “the walrus operator” due to its resemblance to the eyes and tusks of a walrus.\n",
      "\n",
      "In this example, the assignment expression helps avoid calling len() twice:\n",
      "\n",
      "if (n := len(a)) > 10:\n",
      "    print(f\"List is too long ({n} elements, expected <= 10)\")\n",
      "A similar benefit arises during regular expression matching where match objects are needed twice, once to test whether a match occurred and another to extract a subgroup:\n",
      "\n",
      "discount = 0.0\n",
      "if (mo := re.search(r'(\\d+)% discount', advertisement)):\n",
      "    discount = float(mo.group(1)) / 100.0\n",
      "The operator is also useful with while-loops that compute a value to test loop termination and then need that same value again in the body of the loop:\n",
      "\n",
      "# Loop over fixed length blocks\n",
      "while (block := f.read(256)) != '':\n",
      "    process(block)\n",
      "Another motivating use case arises in list comprehensions where a value computed in a filtering condition is also needed in the expression body:\n",
      "\n",
      "[clean_name.title() for name in names\n",
      " if (clean_name := normalize('NFC', name)) in allowed_names]\n",
      "Try to limit use of the walrus operator to clean cases that reduce complexity and improve readability.\n",
      "\n",
      "See PEP 572 for a full description.\n",
      "\n",
      "(Contributed by Emily Morehouse in bpo-35224.)\n",
      "\n",
      "Positional-only parameters\n",
      "There is a new function parameter syntax / to indicate that some function parameters must be specified positionally and cannot be used as keyword arguments. This is the same notation shown by help() for C functions annotated with Larry Hastings’ Argument Clinic tool.\n",
      "\n",
      "In the following example, parameters a and b are positional-only, while c or d can be positional or keyword, and e or f are required to be keywords:\n",
      "\n",
      "def f(a, b, /, c, d, *, e, f):\n",
      "    print(a, b, c, d, e, f)\n",
      "The following is a valid call:\n",
      "\n",
      "f(10, 20, 30, d=40, e=50, f=60)\n",
      "However, these are invalid calls:\n",
      "\n",
      "f(10, b=20, c=30, d=40, e=50, f=60)   # b cannot be a keyword argument\n",
      "f(10, 20, 30, 40, 50, f=60)           # e must be a keyword argument\n",
      "One use case for this notation is that it allows pure Python functions to fully emulate behaviors of existing C coded functions. For example, the built-in pow() function does not accept keyword arguments:\n",
      "\n",
      "def pow(x, y, z=None, /):\n",
      "    \"Emulate the built in pow() function\"\n",
      "    r = x ** y\n",
      "    return r if z is None else r%z\n",
      "Another use case is to preclude keyword arguments when the parameter name is not helpful. For example, the builtin len() function has the signature len(obj, /). This precludes awkward calls such as:\n",
      "\n",
      "len(obj='hello')  # The \"obj\" keyword argument impairs readability\n",
      "A further benefit of marking a parameter as positional-only is that it allows the parameter name to be changed in the future without risk of breaking client code. For example, in the statistics module, the parameter name dist may be changed in the future. This was made possible with the following function specification:\n",
      "\n",
      "def quantiles(dist, /, *, n=4, method='exclusive')\n",
      "    ...\n",
      "Since the parameters to the left of / are not exposed as possible keywords, the parameters names remain available for use in **kwargs:\n",
      "\n",
      ">>>\n",
      ">>> def f(a, b, /, **kwargs):\n",
      "...     print(a, b, kwargs)\n",
      "...\n",
      ">>> f(10, 20, a=1, b=2, c=3)         # a and b are used in two ways\n",
      "10 20 {'a': 1, 'b': 2, 'c': 3}\n",
      "This greatly simplifies the implementation of functions and methods that need to accept arbitrary keyword arguments. For example, here is an excerpt from code in the collections module:\n"
     ]
    }
   ],
   "source": [
    "fp = open('sample_text.txt','r',encoding='utf-8')\n",
    "content = fp.read()\n",
    "print(content)\n",
    "fp.close()"
   ]
  },
  {
   "cell_type": "code",
   "execution_count": 22,
   "metadata": {},
   "outputs": [
    {
     "name": "stdout",
     "output_type": "stream",
     "text": [
      "New Features\n",
      "Assignment expressions\n",
      "There is new syntax := that assigns values to variables as part of a larger expression. It is affectionately known as “the walrus operator” due to its resemblance to the eyes and tusks of a walrus.\n",
      "\n",
      "In this example, the assignment expression helps avoid calling len() twice:\n",
      "\n",
      "if (n := len(a)) > 10:\n",
      "    print(f\"List is too long ({n} elements, expected <= 10)\")\n",
      "A similar benefit arises during regular expression matching where match objects are needed twice, once to test whether a match occurred and another to extract a subgroup:\n",
      "\n",
      "discount = 0.0\n",
      "if (mo := re.search(r'(\\d+)% discount', advertisement)):\n",
      "    discount = float(mo.group(1)) / 100.0\n",
      "The operator is also useful with while-loops that compute a value to test loop termination and then need that same value again in the body of the loop:\n",
      "\n",
      "# Loop over fixed length blocks\n",
      "while (block := f.read(256)) != '':\n",
      "    process(block)\n",
      "Another motivating use case arises in list comprehensions where a value computed in a filtering condition is also needed in the expression body:\n",
      "\n",
      "[clean_name.title() for name in names\n",
      " if (clean_name := normalize('NFC', name)) in allowed_names]\n",
      "Try to limit use of the walrus operator to clean cases that reduce complexity and improve readability.\n",
      "\n",
      "See PEP 572 for a full description.\n",
      "\n",
      "(Contributed by Emily Morehouse in bpo-35224.)\n",
      "\n",
      "Positional-only parameters\n",
      "There is a new function parameter syntax / to indicate that some function parameters must be specified positionally and cannot be used as keyword arguments. This is the same notation shown by help() for C functions annotated with Larry Hastings’ Argument Clinic tool.\n",
      "\n",
      "In the following example, parameters a and b are positional-only, while c or d can be positional or keyword, and e or f are required to be keywords:\n",
      "\n",
      "def f(a, b, /, c, d, *, e, f):\n",
      "    print(a, b, c, d, e, f)\n",
      "The following is a valid call:\n",
      "\n",
      "f(10, 20, 30, d=40, e=50, f=60)\n",
      "However, these are invalid calls:\n",
      "\n",
      "f(10, b=20, c=30, d=40, e=50, f=60)   # b cannot be a keyword argument\n",
      "f(10, 20, 30, 40, 50, f=60)           # e must be a keyword argument\n",
      "One use case for this notation is that it allows pure Python functions to fully emulate behaviors of existing C coded functions. For example, the built-in pow() function does not accept keyword arguments:\n",
      "\n",
      "def pow(x, y, z=None, /):\n",
      "    \"Emulate the built in pow() function\"\n",
      "    r = x ** y\n",
      "    return r if z is None else r%z\n",
      "Another use case is to preclude keyword arguments when the parameter name is not helpful. For example, the builtin len() function has the signature len(obj, /). This precludes awkward calls such as:\n",
      "\n",
      "len(obj='hello')  # The \"obj\" keyword argument impairs readability\n",
      "A further benefit of marking a parameter as positional-only is that it allows the parameter name to be changed in the future without risk of breaking client code. For example, in the statistics module, the parameter name dist may be changed in the future. This was made possible with the following function specification:\n",
      "\n",
      "def quantiles(dist, /, *, n=4, method='exclusive')\n",
      "    ...\n",
      "Since the parameters to the left of / are not exposed as possible keywords, the parameters names remain available for use in **kwargs:\n",
      "\n",
      ">>>\n",
      ">>> def f(a, b, /, **kwargs):\n",
      "...     print(a, b, kwargs)\n",
      "...\n",
      ">>> f(10, 20, a=1, b=2, c=3)         # a and b are used in two ways\n",
      "10 20 {'a': 1, 'b': 2, 'c': 3}\n",
      "This greatly simplifies the implementation of functions and methods that need to accept arbitrary keyword arguments. For example, here is an excerpt from code in the collections module:\n",
      "***********************************************************\n",
      "\n"
     ]
    }
   ],
   "source": [
    "fp = open('sample_text.txt','r',encoding='utf-8')\n",
    "content = fp.read()\n",
    "print(content)\n",
    "print('***********************************************************')\n",
    "\n",
    "content = fp.read()\n",
    "print(content)\n",
    "\n",
    "fp.close()"
   ]
  },
  {
   "cell_type": "code",
   "execution_count": 29,
   "metadata": {},
   "outputs": [
    {
     "name": "stdout",
     "output_type": "stream",
     "text": [
      "New Fe\n",
      "atures\n",
      "Assignment expressions\n",
      "There is new syntax := that assigns values to variables as part of a larger expression. It is affectionately known as “the walrus operator” due to its resemblance to the eyes and tusks of a walrus.\n",
      "\n",
      "In this example, the assignment expression helps avoid calling len() twice:\n",
      "\n",
      "if (n := len(a)) > 10:\n",
      "    print(f\"List is too long ({n} elements, expected <= 10)\")\n",
      "A similar benefit arises during regular expression matching where match objects are needed twice, once to test whether a match occurred and another to extract a subgroup:\n",
      "\n",
      "discount = 0.0\n",
      "if (mo := re.search(r'(\\d+)% discount', advertisement)):\n",
      "    discount = float(mo.group(1)) / 100.0\n",
      "The operator is also useful with while-loops that compute a value to test loop termination and then need that same value again in the body of the loop:\n",
      "\n",
      "# Loop over fixed length blocks\n",
      "while (block := f.read(256)) != '':\n",
      "    process(block)\n",
      "Another motivating use case arises in list comprehensions where a value computed in a filtering condition is also needed in the expression body:\n",
      "\n",
      "[clean_name.title() for name in names\n",
      " if (clean_name := normalize('NFC', name)) in allowed_names]\n",
      "Try to limit use of the walrus operator to clean cases that reduce complexity and improve readability.\n",
      "\n",
      "See PEP 572 for a full description.\n",
      "\n",
      "(Contributed by Emily Morehouse in bpo-35224.)\n",
      "\n",
      "Positional-only parameters\n",
      "There is a new function parameter syntax / to indicate that some function parameters must be specified positionally and cannot be used as keyword arguments. This is the same notation shown by help() for C functions annotated with Larry Hastings’ Argument Clinic tool.\n",
      "\n",
      "In the following example, parameters a and b are positional-only, while c or d can be positional or keyword, and e or f are required to be keywords:\n",
      "\n",
      "def f(a, b, /, c, d, *, e, f):\n",
      "    print(a, b, c, d, e, f)\n",
      "The following is a valid call:\n",
      "\n",
      "f(10, 20, 30, d=40, e=50, f=60)\n",
      "However, these are invalid calls:\n",
      "\n",
      "f(10, b=20, c=30, d=40, e=50, f=60)   # b cannot be a keyword argument\n",
      "f(10, 20, 30, 40, 50, f=60)           # e must be a keyword argument\n",
      "One use case for this notation is that it allows pure Python functions to fully emulate behaviors of existing C coded functions. For example, the built-in pow() function does not accept keyword arguments:\n",
      "\n",
      "def pow(x, y, z=None, /):\n",
      "    \"Emulate the built in pow() function\"\n",
      "    r = x ** y\n",
      "    return r if z is None else r%z\n",
      "Another use case is to preclude keyword arguments when the parameter name is not helpful. For example, the builtin len() function has the signature len(obj, /). This precludes awkward calls such as:\n",
      "\n",
      "len(obj='hello')  # The \"obj\" keyword argument impairs readability\n",
      "A further benefit of marking a parameter as positional-only is that it allows the parameter name to be changed in the future without risk of breaking client code. For example, in the statistics module, the parameter name dist may be changed in the future. This was made possible with the following function specification:\n",
      "\n",
      "def quantiles(dist, /, *, n=4, method='exclusive')\n",
      "    ...\n",
      "Since the parameters to the left of / are not exposed as possible keywords, the parameters names remain available for use in **kwargs:\n",
      "\n",
      ">>>\n",
      ">>> def f(a, b, /, **kwargs):\n",
      "...     print(a, b, kwargs)\n",
      "...\n",
      ">>> f(10, 20, a=1, b=2, c=3)         # a and b are used in two ways\n",
      "10 20 {'a': 1, 'b': 2, 'c': 3}\n",
      "This greatly simplifies the implementation of functions and methods that need to accept arbitrary keyword arguments. For example, here is an excerpt from code in the collections module:\n"
     ]
    }
   ],
   "source": [
    "fp = open('sample_text.txt','r',encoding='utf-8')\n",
    "content = fp.read(6)\n",
    "print(content)\n",
    "\n",
    "content = fp.read()\n",
    "print(content)\n",
    "\n",
    "\n",
    "fp.close()"
   ]
  },
  {
   "cell_type": "code",
   "execution_count": 12,
   "metadata": {},
   "outputs": [
    {
     "name": "stdout",
     "output_type": "stream",
     "text": [
      "****************************************One Line at a time*************************************************\n",
      "New Features\n",
      "\n",
      "****************************************One Line at a time*************************************************\n",
      "Assignment expressions\n",
      "\n",
      "****************************************One Line at a time*************************************************\n",
      "There is new syntax := that assigns values to variables as part of a larger expression. It is affectionately known as “the walrus operator” due to its resemblance to the eyes and tusks of a walrus.\n",
      "\n",
      "****************************************One Line at a time*************************************************\n"
     ]
    }
   ],
   "source": [
    "fp = open('sample_text.txt','r',encoding='utf-8')\n",
    "print('****************************************One Line at a time*************************************************')\n",
    "\n",
    "\n",
    "content = fp.readline()\n",
    "print(content)\n",
    "\n",
    "print('****************************************One Line at a time*************************************************')\n",
    "\n",
    "content = fp.readline()\n",
    "print(content)\n",
    "\n",
    "print('****************************************One Line at a time*************************************************')\n",
    "\n",
    "content = fp.readline()\n",
    "print(content)\n",
    "\n",
    "print('****************************************One Line at a time*************************************************')\n",
    "fp.close()"
   ]
  },
  {
   "cell_type": "code",
   "execution_count": 14,
   "metadata": {},
   "outputs": [
    {
     "name": "stdout",
     "output_type": "stream",
     "text": [
      "['New Features\\n', 'Assignment expressions\\n', 'There is new syntax := that assigns values to variables as part of a larger expression. It is affectionately known as “the walrus operator” due to its resemblance to the eyes and tusks of a walrus.\\n', '\\n', 'In this example, the assignment expression helps avoid calling len() twice:\\n', '\\n', 'if (n := len(a)) > 10:\\n', '    print(f\"List is too long ({n} elements, expected <= 10)\")\\n', 'A similar benefit arises during regular expression matching where match objects are needed twice, once to test whether a match occurred and another to extract a subgroup:\\n', '\\n', 'discount = 0.0\\n', \"if (mo := re.search(r'(\\\\d+)% discount', advertisement)):\\n\", '    discount = float(mo.group(1)) / 100.0\\n', 'The operator is also useful with while-loops that compute a value to test loop termination and then need that same value again in the body of the loop:\\n', '\\n', '# Loop over fixed length blocks\\n', \"while (block := f.read(256)) != '':\\n\", '    process(block)\\n', 'Another motivating use case arises in list comprehensions where a value computed in a filtering condition is also needed in the expression body:\\n', '\\n', '[clean_name.title() for name in names\\n', \" if (clean_name := normalize('NFC', name)) in allowed_names]\\n\", 'Try to limit use of the walrus operator to clean cases that reduce complexity and improve readability.\\n', '\\n', 'See PEP 572 for a full description.\\n', '\\n', '(Contributed by Emily Morehouse in bpo-35224.)\\n', '\\n', 'Positional-only parameters\\n', 'There is a new function parameter syntax / to indicate that some function parameters must be specified positionally and cannot be used as keyword arguments. This is the same notation shown by help() for C functions annotated with Larry Hastings’ Argument Clinic tool.\\n', '\\n', 'In the following example, parameters a and b are positional-only, while c or d can be positional or keyword, and e or f are required to be keywords:\\n', '\\n', 'def f(a, b, /, c, d, *, e, f):\\n', '    print(a, b, c, d, e, f)\\n', 'The following is a valid call:\\n', '\\n', 'f(10, 20, 30, d=40, e=50, f=60)\\n', 'However, these are invalid calls:\\n', '\\n', 'f(10, b=20, c=30, d=40, e=50, f=60)   # b cannot be a keyword argument\\n', 'f(10, 20, 30, 40, 50, f=60)           # e must be a keyword argument\\n', 'One use case for this notation is that it allows pure Python functions to fully emulate behaviors of existing C coded functions. For example, the built-in pow() function does not accept keyword arguments:\\n', '\\n', 'def pow(x, y, z=None, /):\\n', '    \"Emulate the built in pow() function\"\\n', '    r = x ** y\\n', '    return r if z is None else r%z\\n', 'Another use case is to preclude keyword arguments when the parameter name is not helpful. For example, the builtin len() function has the signature len(obj, /). This precludes awkward calls such as:\\n', '\\n', 'len(obj=\\'hello\\')  # The \"obj\" keyword argument impairs readability\\n', 'A further benefit of marking a parameter as positional-only is that it allows the parameter name to be changed in the future without risk of breaking client code. For example, in the statistics module, the parameter name dist may be changed in the future. This was made possible with the following function specification:\\n', '\\n', \"def quantiles(dist, /, *, n=4, method='exclusive')\\n\", '    ...\\n', 'Since the parameters to the left of / are not exposed as possible keywords, the parameters names remain available for use in **kwargs:\\n', '\\n', '>>>\\n', '>>> def f(a, b, /, **kwargs):\\n', '...     print(a, b, kwargs)\\n', '...\\n', '>>> f(10, 20, a=1, b=2, c=3)         # a and b are used in two ways\\n', \"10 20 {'a': 1, 'b': 2, 'c': 3}\\n\", 'This greatly simplifies the implementation of functions and methods that need to accept arbitrary keyword arguments. For example, here is an excerpt from code in the collections module:']\n"
     ]
    }
   ],
   "source": [
    "fp = open('sample_text.txt','r',encoding='utf-8')\n",
    "content = fp.readlines()\n",
    "print(content)\n",
    "fp.close()"
   ]
  },
  {
   "cell_type": "markdown",
   "metadata": {},
   "source": [
    "# generator"
   ]
  },
  {
   "cell_type": "code",
   "execution_count": 15,
   "metadata": {},
   "outputs": [
    {
     "name": "stdout",
     "output_type": "stream",
     "text": [
      "['New Features\\n', 'Assignment expressions\\n', 'There is new syntax := that assigns values to variables as part of a larger expression. It is affectionately known as “the walrus operator” due to its resemblance to the eyes and tusks of a walrus.\\n', '\\n', 'In this example, the assignment expression helps avoid calling len() twice:\\n']\n"
     ]
    }
   ],
   "source": [
    "fp = open('sample_text.txt','r',encoding='utf-8')\n",
    "content = fp.readlines()[:5]\n",
    "print(content)\n",
    "fp.close()"
   ]
  },
  {
   "cell_type": "code",
   "execution_count": 22,
   "metadata": {},
   "outputs": [],
   "source": [
    "fp = open('sample_text2.txt','w')\n",
    "\n",
    "s = 'Add this line to file'\n",
    "\n",
    "# it will flush the old content or clear the content\n",
    "\n",
    "# s = '__________________________'\n",
    "\n",
    "# now it will write this \n",
    "fp.write(s)\n",
    "fp.close()"
   ]
  },
  {
   "cell_type": "code",
   "execution_count": 24,
   "metadata": {},
   "outputs": [
    {
     "ename": "UnsupportedOperation",
     "evalue": "not readable",
     "output_type": "error",
     "traceback": [
      "\u001b[0;31m---------------------------------------------------------------------------\u001b[0m",
      "\u001b[0;31mUnsupportedOperation\u001b[0m                      Traceback (most recent call last)",
      "\u001b[0;32m<ipython-input-24-ceaad923b92e>\u001b[0m in \u001b[0;36m<module>\u001b[0;34m\u001b[0m\n\u001b[1;32m      3\u001b[0m \u001b[0mfp\u001b[0m\u001b[0;34m.\u001b[0m\u001b[0mwrite\u001b[0m\u001b[0;34m(\u001b[0m\u001b[0ms\u001b[0m\u001b[0;34m)\u001b[0m\u001b[0;34m\u001b[0m\u001b[0;34m\u001b[0m\u001b[0m\n\u001b[1;32m      4\u001b[0m \u001b[0;34m\u001b[0m\u001b[0m\n\u001b[0;32m----> 5\u001b[0;31m \u001b[0mcontent\u001b[0m \u001b[0;34m=\u001b[0m \u001b[0mfp\u001b[0m\u001b[0;34m.\u001b[0m\u001b[0mread\u001b[0m\u001b[0;34m(\u001b[0m\u001b[0;34m)\u001b[0m\u001b[0;34m\u001b[0m\u001b[0;34m\u001b[0m\u001b[0m\n\u001b[0m\u001b[1;32m      6\u001b[0m \u001b[0mprint\u001b[0m\u001b[0;34m(\u001b[0m\u001b[0mcontent\u001b[0m\u001b[0;34m)\u001b[0m\u001b[0;34m\u001b[0m\u001b[0;34m\u001b[0m\u001b[0m\n\u001b[1;32m      7\u001b[0m \u001b[0;34m\u001b[0m\u001b[0m\n",
      "\u001b[0;31mUnsupportedOperation\u001b[0m: not readable"
     ]
    }
   ],
   "source": [
    "fp = open('sample_text2.txt','w')\n",
    "s = 'Add this line to file'\n",
    "fp.write(s)\n",
    "\n",
    "content = fp.read()\n",
    "print(content)\n",
    "\n",
    "fp.close()"
   ]
  },
  {
   "cell_type": "markdown",
   "metadata": {},
   "source": [
    "# tell() and seek()"
   ]
  },
  {
   "cell_type": "code",
   "execution_count": 30,
   "metadata": {},
   "outputs": [
    {
     "name": "stdout",
     "output_type": "stream",
     "text": [
      "0\n",
      "21\n",
      "21\n",
      "\n"
     ]
    }
   ],
   "source": [
    "fp = open('sample_text2.txt','w+')\n",
    "print(fp.tell())\n",
    "s = 'Add this line to file'\n",
    "\n",
    "fp.write(s)\n",
    "print(fp.tell())\n",
    "\n",
    "content = fp.read()\n",
    "print(fp.tell())\n",
    "print(content)\n",
    "\n",
    "fp.close()"
   ]
  },
  {
   "cell_type": "code",
   "execution_count": null,
   "metadata": {},
   "outputs": [],
   "source": [
    "seek(offset,position)\n",
    "\n",
    "0 : start of the file\n",
    "1 : current position\n",
    "2 : end of the file\n",
    "    \n",
    "offset : How many characters?\n",
    "\n",
    "seek(15,0) : move the file pointer by 15 characters by start of the file\n",
    "seek(0,0)  : move the file pointer by 0 characters by start of the file\n",
    "seek(0,2)  : move the file pointer by 0 character by end of the file\n",
    "    \n",
    "** position 1 and 2 will always use 0 character "
   ]
  },
  {
   "cell_type": "code",
   "execution_count": null,
   "metadata": {},
   "outputs": [],
   "source": []
  }
 ],
 "metadata": {
  "kernelspec": {
   "display_name": "Python 3",
   "language": "python",
   "name": "python3"
  },
  "language_info": {
   "codemirror_mode": {
    "name": "ipython",
    "version": 3
   },
   "file_extension": ".py",
   "mimetype": "text/x-python",
   "name": "python",
   "nbconvert_exporter": "python",
   "pygments_lexer": "ipython3",
   "version": "3.7.4"
  }
 },
 "nbformat": 4,
 "nbformat_minor": 2
}
