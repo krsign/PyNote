{
 "cells": [
  {
   "cell_type": "markdown",
   "metadata": {},
   "source": [
    "# Basics"
   ]
  },
  {
   "cell_type": "code",
   "execution_count": null,
   "metadata": {},
   "outputs": [],
   "source": [
    "\n",
    "\n",
    "Datatypes: \n",
    "    int 10 12 500 \n",
    "    float 7.55 15.88888888888\n",
    "    str 'Python'  \"Java\" \"\"\"Learning python is easy\"\"\"\n",
    "    list [90,88,70,35,45] [100,200,(100,200,300),\"Python\",{1:1,2:3}] : Mutable\n",
    "    tuple (100,200,300) : Immutable\n",
    "    dict {\"name\":\"ABC\",\"email\":\"abc@xyz.com\"}\n",
    "    set {10,20,30,40,50}\n",
    "    bool True False\n",
    "    \n",
    "    "
   ]
  },
  {
   "cell_type": "code",
   "execution_count": 7,
   "metadata": {},
   "outputs": [
    {
     "name": "stdout",
     "output_type": "stream",
     "text": [
      "<class 'int'>\n",
      "4399577456\n",
      "4399577456\n",
      "4399577456\n"
     ]
    }
   ],
   "source": [
    "#same memori location \n",
    "\n",
    "print(type(5))\n",
    "a = 40\n",
    "print(id(a))\n",
    "b = 50\n",
    "print(id(a))\n",
    "c = 100\n",
    "print(id(a))"
   ]
  },
  {
   "cell_type": "code",
   "execution_count": 11,
   "metadata": {},
   "outputs": [
    {
     "name": "stdout",
     "output_type": "stream",
     "text": [
      "4399577456\n",
      "4399577776\n"
     ]
    }
   ],
   "source": [
    "#different memory location\n",
    "\n",
    "a = 40\n",
    "print(id(a))\n",
    "a = 50\n",
    "print(id(a))"
   ]
  },
  {
   "cell_type": "code",
   "execution_count": null,
   "metadata": {},
   "outputs": [],
   "source": [
    "Immutable: If i am not able to change a value at same memory location,I will say its immutable\n",
    "Mutable : If you are able to change value at same mem location"
   ]
  },
  {
   "cell_type": "code",
   "execution_count": null,
   "metadata": {},
   "outputs": [],
   "source": [
    "Mutable : python will provide methods to perform add/update and delete operation\n",
    "Immutable : No methods to perform add/update/delete operation"
   ]
  },
  {
   "cell_type": "code",
   "execution_count": 18,
   "metadata": {},
   "outputs": [
    {
     "name": "stdout",
     "output_type": "stream",
     "text": [
      "[10, 20, 30, 40]\n",
      "id: 4438401344\n",
      "[10, 20, 30, 40, 50]\n",
      "id: 4438401344\n"
     ]
    }
   ],
   "source": [
    "# append method adds elements in list \n",
    "\n",
    "l = [10,20,30,40]\n",
    "print(l)\n",
    "print('id:',id(l))\n",
    "l.append(50)\n",
    "print(l)\n",
    "print('id:',id(l))"
   ]
  },
  {
   "cell_type": "code",
   "execution_count": null,
   "metadata": {},
   "outputs": [],
   "source": [
    "Mutable:\n",
    "    list \n",
    "    dict\n",
    "    set\n",
    "    \n",
    "Immutable\n",
    "    int\n",
    "    float\n",
    "    tuple\n",
    "    str"
   ]
  },
  {
   "cell_type": "code",
   "execution_count": null,
   "metadata": {},
   "outputs": [],
   "source": [
    "Few rules while defining variable:\n",
    "    - Start with char \n",
    "    - All caps variable name is used for constants \n",
    "    - _ special char\n",
    "    - firstname, firstName, first_name\n",
    "    - digits are allowed but not at the start  first_name1\n",
    "    \n",
    "    \n",
    "PEP 8 : Python Extension Proposal"
   ]
  },
  {
   "cell_type": "code",
   "execution_count": null,
   "metadata": {},
   "outputs": [],
   "source": [
    "Operators:\n",
    "    1. Artithmetic operators +,-,*,/,//-floor division,%,** - power\n",
    "    \n",
    "    2. Comparison operators ==,!=,<,>,<=,>= True/False\n",
    "    \n",
    "    3. Membership operators in, not in\n",
    "    \n",
    "    4. Identity operators is, is not\n",
    "    \n",
    "    5. Logical operators and or not\n",
    "    \n",
    "    6. Assignment Operators =,+=,-=,/="
   ]
  },
  {
   "cell_type": "code",
   "execution_count": null,
   "metadata": {},
   "outputs": [],
   "source": [
    "floor division\n",
    "\n",
    "Mathematical division that rounds down to nearest integer. \n",
    "The floor division operator is //. \n",
    "For example, the expression 11 // 4 evaluates to 2 in contrast to the 2.75 returned by float true division. \n",
    "\n",
    "Note that (-11) // 4 is -3 because that is -2.75 rounded downward. "
   ]
  },
  {
   "cell_type": "code",
   "execution_count": null,
   "metadata": {},
   "outputs": [],
   "source": [
    "and:\n",
    "    \n",
    "True   True   True\n",
    "True   False  False\n",
    "False  True   False\n",
    "False  False  False\n",
    "\n",
    "or:\n",
    "    \n",
    "True   True   True\n",
    "True   False  True\n",
    "False  True   True\n",
    "False  False  False\n",
    "\n",
    "not :\n",
    "    \n",
    "~True : False \n",
    "~False : True"
   ]
  },
  {
   "cell_type": "code",
   "execution_count": null,
   "metadata": {},
   "outputs": [],
   "source": [
    "Itrable datatypes:\n",
    "list\n",
    "tuple\n",
    "dict\n",
    "set\n",
    "str"
   ]
  },
  {
   "cell_type": "markdown",
   "metadata": {},
   "source": [
    "# Conditioanl Statements :"
   ]
  },
  {
   "cell_type": "code",
   "execution_count": 19,
   "metadata": {},
   "outputs": [
    {
     "name": "stdout",
     "output_type": "stream",
     "text": [
      "n2 is greater\n"
     ]
    }
   ],
   "source": [
    "n1 = 100\n",
    "n2 = 200\n",
    "if n1 > n2:\n",
    "    print('n1 is greater')\n",
    "elif n2 > n1:\n",
    "    print('n2 is greater')\n",
    "else:\n",
    "    print('Both are equal')"
   ]
  },
  {
   "cell_type": "code",
   "execution_count": 25,
   "metadata": {},
   "outputs": [
    {
     "name": "stdout",
     "output_type": "stream",
     "text": [
      "consonent\n"
     ]
    }
   ],
   "source": [
    "char = 'k'\n",
    "vowels = ['a','e','i','o','u']\n",
    "if char in vowels:\n",
    "    print(\"It's a Vowel\")\n",
    "else:\n",
    "    print('consonent')"
   ]
  },
  {
   "cell_type": "code",
   "execution_count": null,
   "metadata": {},
   "outputs": [],
   "source": [
    "if [condition] => True:\n",
    "    Statements \n",
    "elif [condition] => True/False:\n",
    "    statemnts2\n",
    "else:\n",
    "    statements"
   ]
  },
  {
   "cell_type": "code",
   "execution_count": null,
   "metadata": {},
   "outputs": [],
   "source": [
    "True/False:\n",
    "    \n",
    "    - Comparison -  ==,!=,<,>,<=,>=\n",
    "    - Logical    -  and / not\n",
    "    - Membership - in, not in \n",
    "    - Identity   - is, is not"
   ]
  },
  {
   "cell_type": "markdown",
   "metadata": {},
   "source": [
    "# Looping"
   ]
  },
  {
   "cell_type": "code",
   "execution_count": null,
   "metadata": {},
   "outputs": [],
   "source": [
    "Synatx:\n",
    "    for [user_defined_variable] in [iterable datatype]\n",
    "    \n",
    "    Iterable Datatypes:\n",
    "        - str\n",
    "        - list\n",
    "        - tuple\n",
    "        - dict \n",
    "        - set"
   ]
  },
  {
   "cell_type": "code",
   "execution_count": 30,
   "metadata": {},
   "outputs": [
    {
     "name": "stdout",
     "output_type": "stream",
     "text": [
      "10\n",
      "20\n",
      "30\n",
      "40\n"
     ]
    }
   ],
   "source": [
    "l = [10,20,30,40]\n",
    "for i in l:\n",
    "    print(i)"
   ]
  },
  {
   "cell_type": "code",
   "execution_count": 34,
   "metadata": {},
   "outputs": [
    {
     "name": "stdout",
     "output_type": "stream",
     "text": [
      "TOTAL: 150\n"
     ]
    }
   ],
   "source": [
    "l = [10,20,30,40]\n",
    "l.append(50)\n",
    "\n",
    "sum = 0\n",
    "for i in l:\n",
    "    sum += i\n",
    "print('TOTAL:',sum)"
   ]
  },
  {
   "cell_type": "code",
   "execution_count": 41,
   "metadata": {},
   "outputs": [
    {
     "name": "stdout",
     "output_type": "stream",
     "text": [
      "150\n"
     ]
    }
   ],
   "source": [
    "#checking maximum number\n",
    "\n",
    "nums = [100,45,12,74,90,150,4,2,1]\n",
    "\n",
    "max = 0\n",
    "\n",
    "for num in nums:\n",
    "    if num > max:\n",
    "        max = num\n",
    "print(max)"
   ]
  },
  {
   "cell_type": "code",
   "execution_count": 45,
   "metadata": {},
   "outputs": [
    {
     "name": "stdout",
     "output_type": "stream",
     "text": [
      "130\n"
     ]
    }
   ],
   "source": [
    "#checking second max\n",
    "\n",
    "nums = [100,130,45,12,74,90,150,4,2,1]\n",
    "max = 0\n",
    "sec_max = 0\n",
    "for num in nums:\n",
    "    if num > max and num > sec_max:\n",
    "        sec_max = max\n",
    "        max = num\n",
    "    elif num < max and num > sec_max:\n",
    "        sec_max = num\n",
    "print(sec_max)"
   ]
  },
  {
   "cell_type": "markdown",
   "metadata": {},
   "source": [
    "# break and continue"
   ]
  },
  {
   "cell_type": "code",
   "execution_count": 50,
   "metadata": {},
   "outputs": [
    {
     "name": "stdout",
     "output_type": "stream",
     "text": [
      "Number Found!\n"
     ]
    }
   ],
   "source": [
    "nums = [40,50,60,70,80,90]\n",
    "key = 40\n",
    "for num in nums:\n",
    "    if key == num:\n",
    "        print('Number Found!')\n",
    "        break\n",
    "#optional else \n",
    "else:\n",
    "    print('Number Not found!')"
   ]
  }
 ],
 "metadata": {
  "kernelspec": {
   "display_name": "Python 3",
   "language": "python",
   "name": "python3"
  },
  "language_info": {
   "codemirror_mode": {
    "name": "ipython",
    "version": 3
   },
   "file_extension": ".py",
   "mimetype": "text/x-python",
   "name": "python",
   "nbconvert_exporter": "python",
   "pygments_lexer": "ipython3",
   "version": "3.7.4"
  }
 },
 "nbformat": 4,
 "nbformat_minor": 2
}
