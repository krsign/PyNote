{
 "cells": [
  {
   "cell_type": "markdown",
   "metadata": {},
   "source": [
    "# Basics"
   ]
  },
  {
   "cell_type": "code",
   "execution_count": null,
   "metadata": {},
   "outputs": [],
   "source": [
    "\n",
    "\n",
    "Datatypes: \n",
    "    int 10 12 500 \n",
    "    float 7.55 15.88888888888\n",
    "    str 'Python'  \"Java\" \"\"\"Learning python is easy\"\"\"\n",
    "    list [90,88,70,35,45] [100,200,(100,200,300),\"Python\",{1:1,2:3}] : Mutable\n",
    "    tuple (100,200,300) : Immutable\n",
    "    dict {\"name\":\"ABC\",\"email\":\"abc@xyz.com\"}\n",
    "    set {10,20,30,40,50}\n",
    "    bool True False\n",
    "    \n",
    "    "
   ]
  },
  {
   "cell_type": "code",
   "execution_count": 7,
   "metadata": {},
   "outputs": [
    {
     "name": "stdout",
     "output_type": "stream",
     "text": [
      "<class 'int'>\n",
      "4399577456\n",
      "4399577456\n",
      "4399577456\n"
     ]
    }
   ],
   "source": [
    "#same memori location \n",
    "\n",
    "print(type(5))\n",
    "a = 40\n",
    "print(id(a))\n",
    "b = 50\n",
    "print(id(a))\n",
    "c = 100\n",
    "print(id(a))"
   ]
  },
  {
   "cell_type": "code",
   "execution_count": 11,
   "metadata": {},
   "outputs": [
    {
     "name": "stdout",
     "output_type": "stream",
     "text": [
      "4399577456\n",
      "4399577776\n"
     ]
    }
   ],
   "source": [
    "#different memory location\n",
    "\n",
    "a = 40\n",
    "print(id(a))\n",
    "a = 50\n",
    "print(id(a))"
   ]
  },
  {
   "cell_type": "code",
   "execution_count": null,
   "metadata": {},
   "outputs": [],
   "source": [
    "Immutable: If i am not able to change a value at same memory location,I will say its immutable\n",
    "Mutable : If you are able to change value at same mem location"
   ]
  },
  {
   "cell_type": "code",
   "execution_count": null,
   "metadata": {},
   "outputs": [],
   "source": [
    "Mutable : python will provide methods to perform add/update and delete operation\n",
    "Immutable : No methods to perform add/update/delete operation"
   ]
  },
  {
   "cell_type": "code",
   "execution_count": 18,
   "metadata": {},
   "outputs": [
    {
     "name": "stdout",
     "output_type": "stream",
     "text": [
      "[10, 20, 30, 40]\n",
      "id: 4438401344\n",
      "[10, 20, 30, 40, 50]\n",
      "id: 4438401344\n"
     ]
    }
   ],
   "source": [
    "# append method adds elements in list \n",
    "\n",
    "l = [10,20,30,40]\n",
    "print(l)\n",
    "print('id:',id(l))\n",
    "l.append(50)\n",
    "print(l)\n",
    "print('id:',id(l))"
   ]
  },
  {
   "cell_type": "code",
   "execution_count": null,
   "metadata": {},
   "outputs": [],
   "source": [
    "Mutable:\n",
    "    list \n",
    "    dict\n",
    "    set\n",
    "    \n",
    "Immutable\n",
    "    int\n",
    "    float\n",
    "    tuple\n",
    "    str"
   ]
  },
  {
   "cell_type": "code",
   "execution_count": null,
   "metadata": {},
   "outputs": [],
   "source": [
    "Few rules while defining variable:\n",
    "    - Start with char \n",
    "    - All caps variable name is used for constants \n",
    "    - _ special char\n",
    "    - firstname, firstName, first_name\n",
    "    - digits are allowed but not at the start  first_name1\n",
    "    \n",
    "    \n",
    "PEP 8 : Python Extension Proposal"
   ]
  },
  {
   "cell_type": "code",
   "execution_count": null,
   "metadata": {},
   "outputs": [],
   "source": [
    "Operators:\n",
    "    1. Artithmetic operators +,-,*,/,//-floor division,%,** - power\n",
    "    \n",
    "    2. Comparison operators ==,!=,<,>,<=,>= True/False\n",
    "    \n",
    "    3. Membership operators in, not in\n",
    "    \n",
    "    4. Identity operators is, is not\n",
    "    \n",
    "    5. Logical operators and or not\n",
    "    \n",
    "    6. Assignment Operators =,+=,-=,/="
   ]
  },
  {
   "cell_type": "code",
   "execution_count": null,
   "metadata": {},
   "outputs": [],
   "source": [
    "floor division\n",
    "\n",
    "Mathematical division that rounds down to nearest integer. \n",
    "The floor division operator is //. \n",
    "For example, the expression 11 // 4 evaluates to 2 in contrast to the 2.75 returned by float true division. \n",
    "\n",
    "Note that (-11) // 4 is -3 because that is -2.75 rounded downward. "
   ]
  },
  {
   "cell_type": "code",
   "execution_count": null,
   "metadata": {},
   "outputs": [],
   "source": [
    "and:\n",
    "    \n",
    "True   True   True\n",
    "True   False  False\n",
    "False  True   False\n",
    "False  False  False\n",
    "\n",
    "or:\n",
    "    \n",
    "True   True   True\n",
    "True   False  True\n",
    "False  True   True\n",
    "False  False  False\n",
    "\n",
    "not :\n",
    "    \n",
    "~True : False \n",
    "~False : True"
   ]
  },
  {
   "cell_type": "code",
   "execution_count": null,
   "metadata": {},
   "outputs": [],
   "source": [
    "Itrable datatypes:\n",
    "list\n",
    "tuple\n",
    "dict\n",
    "set\n",
    "str"
   ]
  },
  {
   "cell_type": "markdown",
   "metadata": {},
   "source": [
    "# Conditioanl Statements :"
   ]
  },
  {
   "cell_type": "code",
   "execution_count": 19,
   "metadata": {},
   "outputs": [
    {
     "name": "stdout",
     "output_type": "stream",
     "text": [
      "n2 is greater\n"
     ]
    }
   ],
   "source": [
    "n1 = 100\n",
    "n2 = 200\n",
    "if n1 > n2:\n",
    "    print('n1 is greater')\n",
    "elif n2 > n1:\n",
    "    print('n2 is greater')\n",
    "else:\n",
    "    print('Both are equal')"
   ]
  },
  {
   "cell_type": "code",
   "execution_count": 25,
   "metadata": {},
   "outputs": [
    {
     "name": "stdout",
     "output_type": "stream",
     "text": [
      "consonent\n"
     ]
    }
   ],
   "source": [
    "char = 'k'\n",
    "vowels = ['a','e','i','o','u']\n",
    "if char in vowels:\n",
    "    print(\"It's a Vowel\")\n",
    "else:\n",
    "    print('consonent')"
   ]
  },
  {
   "cell_type": "code",
   "execution_count": null,
   "metadata": {},
   "outputs": [],
   "source": [
    "if [condition] => True:\n",
    "    Statements \n",
    "elif [condition] => True/False:\n",
    "    statemnts2\n",
    "else:\n",
    "    statements"
   ]
  },
  {
   "cell_type": "code",
   "execution_count": null,
   "metadata": {},
   "outputs": [],
   "source": [
    "True/False:\n",
    "    \n",
    "    - Comparison -  ==,!=,<,>,<=,>=\n",
    "    - Logical    -  and / not\n",
    "    - Membership - in, not in \n",
    "    - Identity   - is, is not"
   ]
  },
  {
   "cell_type": "markdown",
   "metadata": {},
   "source": [
    "# Looping"
   ]
  },
  {
   "cell_type": "code",
   "execution_count": null,
   "metadata": {},
   "outputs": [],
   "source": [
    "Synatx:\n",
    "    for [user_defined_variable] in [iterable datatype]\n",
    "    \n",
    "    Iterable Datatypes:\n",
    "        - str\n",
    "        - list\n",
    "        - tuple\n",
    "        - dict \n",
    "        - set"
   ]
  },
  {
   "cell_type": "code",
   "execution_count": 30,
   "metadata": {},
   "outputs": [
    {
     "name": "stdout",
     "output_type": "stream",
     "text": [
      "10\n",
      "20\n",
      "30\n",
      "40\n"
     ]
    }
   ],
   "source": [
    "l = [10,20,30,40]\n",
    "for i in l:\n",
    "    print(i)"
   ]
  },
  {
   "cell_type": "code",
   "execution_count": 34,
   "metadata": {},
   "outputs": [
    {
     "name": "stdout",
     "output_type": "stream",
     "text": [
      "TOTAL: 150\n"
     ]
    }
   ],
   "source": [
    "l = [10,20,30,40]\n",
    "l.append(50)\n",
    "\n",
    "sum = 0\n",
    "for i in l:\n",
    "    sum += i\n",
    "print('TOTAL:',sum)"
   ]
  },
  {
   "cell_type": "code",
   "execution_count": 41,
   "metadata": {},
   "outputs": [
    {
     "name": "stdout",
     "output_type": "stream",
     "text": [
      "150\n"
     ]
    }
   ],
   "source": [
    "#checking maximum number\n",
    "\n",
    "nums = [100,45,12,74,90,150,4,2,1]\n",
    "\n",
    "max = 0\n",
    "\n",
    "for num in nums:\n",
    "    if num > max:\n",
    "        max = num\n",
    "print(max)"
   ]
  },
  {
   "cell_type": "code",
   "execution_count": 45,
   "metadata": {},
   "outputs": [
    {
     "name": "stdout",
     "output_type": "stream",
     "text": [
      "130\n"
     ]
    }
   ],
   "source": [
    "#checking second max\n",
    "\n",
    "nums = [100,130,45,12,74,90,150,4,2,1]\n",
    "max = 0\n",
    "sec_max = 0\n",
    "for num in nums:\n",
    "    if num > max and num > sec_max:\n",
    "        sec_max = max\n",
    "        max = num\n",
    "    elif num < max and num > sec_max:\n",
    "        sec_max = num\n",
    "print(sec_max)"
   ]
  },
  {
   "cell_type": "markdown",
   "metadata": {},
   "source": [
    "# break and continue"
   ]
  },
  {
   "cell_type": "code",
   "execution_count": 50,
   "metadata": {},
   "outputs": [
    {
     "name": "stdout",
     "output_type": "stream",
     "text": [
      "Number Found!\n"
     ]
    }
   ],
   "source": [
    "nums = [40,50,60,70,80,90]\n",
    "key = 40\n",
    "for num in nums:\n",
    "    if key == num:\n",
    "        print('Number Found!')\n",
    "        break\n",
    "#optional else \n",
    "else:\n",
    "    print('Number Not found!')"
   ]
  },
  {
   "cell_type": "markdown",
   "metadata": {},
   "source": [
    " # String 18 February ,2020"
   ]
  },
  {
   "cell_type": "code",
   "execution_count": null,
   "metadata": {},
   "outputs": [],
   "source": [
    "s = 'Python 3 is awesome'\n",
    "print(s)"
   ]
  },
  {
   "cell_type": "code",
   "execution_count": null,
   "metadata": {},
   "outputs": [],
   "source": [
    "multi_string = '''Multiline String Multiline String Multiline String Multiline String Multiline String Multiline StringMultiline StringMultiline StringMultiline String\n",
    "Multiline StringMultiline StringMultiline StringMultiline StringMultiline String'''\n",
    "print(multi_string)"
   ]
  },
  {
   "cell_type": "code",
   "execution_count": null,
   "metadata": {},
   "outputs": [],
   "source": [
    "s = 'Python World'\n",
    "print(s[0])\n",
    "\n"
   ]
  },
  {
   "cell_type": "code",
   "execution_count": null,
   "metadata": {},
   "outputs": [],
   "source": [
    "s = 'Python World'\n",
    "for char in s:\n",
    "    print(char)"
   ]
  },
  {
   "cell_type": "code",
   "execution_count": null,
   "metadata": {},
   "outputs": [],
   "source": [
    "s = 'Python World'\n",
    "print(s[:2])\n",
    "print(s[:4])  "
   ]
  },
  {
   "cell_type": "code",
   "execution_count": null,
   "metadata": {},
   "outputs": [],
   "source": [
    "s = 'Python World!'\n",
    "print(s[-6:-1:4])\n",
    "\n"
   ]
  },
  {
   "cell_type": "code",
   "execution_count": null,
   "metadata": {},
   "outputs": [],
   "source": [
    "s = 'Python World!'\n",
    "print(len(s))"
   ]
  },
  {
   "cell_type": "code",
   "execution_count": null,
   "metadata": {},
   "outputs": [],
   "source": [
    "s = '  Python World!'\n",
    "print(s)\n",
    "print(s.strip())"
   ]
  },
  {
   "cell_type": "code",
   "execution_count": null,
   "metadata": {},
   "outputs": [],
   "source": [
    "s = 'Python World!'\n",
    "print(s.lower())"
   ]
  },
  {
   "cell_type": "code",
   "execution_count": 44,
   "metadata": {},
   "outputs": [
    {
     "name": "stdout",
     "output_type": "stream",
     "text": [
      "PYTHON WORLD!\n"
     ]
    }
   ],
   "source": [
    "s = 'Python World!'\n",
    "print(s.upper())"
   ]
  },
  {
   "cell_type": "code",
   "execution_count": 43,
   "metadata": {},
   "outputs": [
    {
     "name": "stdout",
     "output_type": "stream",
     "text": [
      "Pythun Wurld!\n"
     ]
    }
   ],
   "source": [
    "s = 'Python World!'\n",
    "print(s.replace('o','u'))"
   ]
  },
  {
   "cell_type": "code",
   "execution_count": 42,
   "metadata": {},
   "outputs": [
    {
     "name": "stdout",
     "output_type": "stream",
     "text": [
      "['Python', 'World!']\n"
     ]
    }
   ],
   "source": [
    "s = 'Python World!'\n",
    "print(s.split())"
   ]
  },
  {
   "cell_type": "code",
   "execution_count": 41,
   "metadata": {},
   "outputs": [
    {
     "name": "stdout",
     "output_type": "stream",
     "text": [
      "True\n"
     ]
    }
   ],
   "source": [
    "s = 'This is python practice, this is for practice purpose and nothing else'\n",
    "print('o' in s)"
   ]
  },
  {
   "cell_type": "code",
   "execution_count": 40,
   "metadata": {},
   "outputs": [
    {
     "name": "stdout",
     "output_type": "stream",
     "text": [
      "True\n"
     ]
    }
   ],
   "source": [
    "s = 'This is python practice, this is for practice purpose and nothing else'\n",
    "print('ae' not in s)"
   ]
  },
  {
   "cell_type": "code",
   "execution_count": 39,
   "metadata": {},
   "outputs": [
    {
     "name": "stdout",
     "output_type": "stream",
     "text": [
      "22 is my age\n"
     ]
    }
   ],
   "source": [
    "s = 22\n",
    "print('{} is my age'.format(s))"
   ]
  },
  {
   "cell_type": "code",
   "execution_count": 38,
   "metadata": {},
   "outputs": [
    {
     "name": "stdout",
     "output_type": "stream",
     "text": [
      "I'm krishna kumar, i'm 21 years old, i own 4 cars and 2 houses\n"
     ]
    }
   ],
   "source": [
    "age = 21\n",
    "cars = 4\n",
    "house = 2\n",
    "print(\"I'm krishna kumar, i'm {0} years old, i own {1} cars and {2} houses\".format(age,cars,house))"
   ]
  },
  {
   "cell_type": "code",
   "execution_count": 37,
   "metadata": {},
   "outputs": [
    {
     "name": "stdout",
     "output_type": "stream",
     "text": [
      " This is Python \"Jupyter\" till best IDE for Python\n"
     ]
    }
   ],
   "source": [
    "# escape character\n",
    "print(\" This is Python \\\"Jupyter\\\" till best IDE for Python\")"
   ]
  },
  {
   "cell_type": "code",
   "execution_count": 36,
   "metadata": {},
   "outputs": [
    {
     "name": "stdout",
     "output_type": "stream",
     "text": [
      "This is python practice, this is for practice purpose and nothing else\n"
     ]
    }
   ],
   "source": [
    "s = 'this is python practice, this is for practice purpose and nothing else'\n",
    "print(s.capitalize())"
   ]
  },
  {
   "cell_type": "code",
   "execution_count": 35,
   "metadata": {},
   "outputs": [
    {
     "name": "stdout",
     "output_type": "stream",
     "text": [
      "Python**********************************\n",
      "*****************Python*****************\n",
      "**********************************Python\n"
     ]
    }
   ],
   "source": [
    "s = 'Python'\n",
    "print(s.ljust(40,'*'))\n",
    "print(s.center(40,'*'))\n",
    "print(s.rjust(40,'*'))\n",
    "\n"
   ]
  },
  {
   "cell_type": "code",
   "execution_count": 34,
   "metadata": {},
   "outputs": [
    {
     "name": "stdout",
     "output_type": "stream",
     "text": [
      "4\n"
     ]
    }
   ],
   "source": [
    "s = 'Python'\n",
    "print(s.index('o'))"
   ]
  },
  {
   "cell_type": "code",
   "execution_count": 33,
   "metadata": {},
   "outputs": [
    {
     "name": "stdout",
     "output_type": "stream",
     "text": [
      "True\n"
     ]
    }
   ],
   "source": [
    "s = \"Python\"\n",
    "print(s.isalpha())"
   ]
  },
  {
   "cell_type": "code",
   "execution_count": 32,
   "metadata": {},
   "outputs": [
    {
     "name": "stdout",
     "output_type": "stream",
     "text": [
      "True\n"
     ]
    }
   ],
   "source": [
    "s = 'Python3'\n",
    "print(s.isalnum())"
   ]
  },
  {
   "cell_type": "markdown",
   "metadata": {},
   "source": [
    "# set"
   ]
  },
  {
   "cell_type": "code",
   "execution_count": 31,
   "metadata": {},
   "outputs": [
    {
     "name": "stdout",
     "output_type": "stream",
     "text": [
      "{70, 40, 10, 80, 50, 20, 90, 60, 30}\n"
     ]
    }
   ],
   "source": [
    "s = {10,20,30,40,50,60,70,80,90}\n",
    "print(s)"
   ]
  },
  {
   "cell_type": "markdown",
   "metadata": {},
   "source": [
    "# Enumerate"
   ]
  },
  {
   "cell_type": "code",
   "execution_count": 30,
   "metadata": {},
   "outputs": [
    {
     "name": "stdout",
     "output_type": "stream",
     "text": [
      "0 100\n",
      "1 200\n",
      "2 300\n",
      "3 400\n",
      "4 500\n",
      "5 600\n",
      "6 700\n",
      "Number Found 6\n"
     ]
    }
   ],
   "source": [
    "nums = [100,200,300,400,500,600,700]\n",
    "key = 700\n",
    "for index, num in enumerate(nums):\n",
    "    print(index,num)\n",
    "    if key == num:\n",
    "        print('Number Found',index)\n",
    "        break\n",
    "else:\n",
    "    print('Number Not found')"
   ]
  },
  {
   "cell_type": "markdown",
   "metadata": {},
   "source": [
    "# indexing / Slicing\n",
    "    - only applicable in iterable datatype"
   ]
  },
  {
   "cell_type": "code",
   "execution_count": 29,
   "metadata": {},
   "outputs": [
    {
     "name": "stdout",
     "output_type": "stream",
     "text": [
      "h\n",
      "g\n",
      "n\n",
      "Python\n",
      "sample string\n",
      "Python sample string\n"
     ]
    }
   ],
   "source": [
    "s1 = 'Python sample string'\n",
    "print(s1[3])\n",
    "print(s1[-1])\n",
    "print(s1[-2])\n",
    "# print(s1[100]) string index out of range\n",
    "\n",
    "#slicing\n",
    "#start value and end value\n",
    "# ** end is not exclusive\n",
    "print(s1[0:6])\n",
    "\n",
    "\n",
    "# print(s1[7:-1]) sample strin will show ...and we know end is not exclusive\n",
    "print(s1[7:])\n",
    "\n",
    "print(s1[:])\n",
    "\n"
   ]
  },
  {
   "cell_type": "markdown",
   "metadata": {},
   "source": [
    "# Stride\n",
    "    - start \n",
    "    - end\n",
    "    - stride default value = 1\n",
    "    - direction\n",
    "        +ve : left to right  (index should be left to right only)\n",
    "        -ve : right to left  (index should be right to left only)"
   ]
  },
  {
   "cell_type": "code",
   "execution_count": 28,
   "metadata": {},
   "outputs": [
    {
     "ename": "SyntaxError",
     "evalue": "invalid syntax (<ipython-input-28-15d220254bd3>, line 4)",
     "output_type": "error",
     "traceback": [
      "\u001b[0;36m  File \u001b[0;32m\"<ipython-input-28-15d220254bd3>\"\u001b[0;36m, line \u001b[0;32m4\u001b[0m\n\u001b[0;31m    print(s1[])\u001b[0m\n\u001b[0m             ^\u001b[0m\n\u001b[0;31mSyntaxError\u001b[0m\u001b[0;31m:\u001b[0m invalid syntax\n"
     ]
    }
   ],
   "source": [
    "s1 = 'Python sample string'\n",
    "print(s1[::2])\n",
    "print(s1[::3])\n",
    "print(s1[])"
   ]
  },
  {
   "cell_type": "code",
   "execution_count": 27,
   "metadata": {},
   "outputs": [
    {
     "name": "stdout",
     "output_type": "stream",
     "text": [
      "gnirts elpmas nohtyP\n",
      "git lmsnhy\n",
      "gr psoy\n"
     ]
    }
   ],
   "source": [
    "s1 = 'Python sample string'\n",
    "print(s1[::-1])\n",
    "print(s1[::-2])\n",
    "print(s1[::-3])"
   ]
  },
  {
   "cell_type": "code",
   "execution_count": 26,
   "metadata": {},
   "outputs": [
    {
     "name": "stdout",
     "output_type": "stream",
     "text": [
      "\n",
      " nohty\n"
     ]
    }
   ],
   "source": [
    "s1 = 'Python sample string'\n",
    "print(s1[0 :6:-1])\n",
    "# prints nothing or an empty string\n",
    "# because: stride is negative and our index is left to right\n",
    "#this will be valid\n",
    "print(s1[6:0:-1])"
   ]
  },
  {
   "cell_type": "code",
   "execution_count": 25,
   "metadata": {},
   "outputs": [
    {
     "name": "stdout",
     "output_type": "stream",
     "text": [
      "\n"
     ]
    }
   ],
   "source": [
    "s1 = 'Python sample string'\n",
    "print(s1[0:0:-1]) \n",
    "# it will also print nothing or empty string"
   ]
  },
  {
   "cell_type": "code",
   "execution_count": 24,
   "metadata": {},
   "outputs": [
    {
     "name": "stdout",
     "output_type": "stream",
     "text": [
      " sample string\n"
     ]
    }
   ],
   "source": [
    "s1 = 'Python sample string'\n",
    "print(s1[6::1])\n",
    "# it will start from space and ends "
   ]
  },
  {
   "cell_type": "code",
   "execution_count": 23,
   "metadata": {},
   "outputs": [
    {
     "name": "stdout",
     "output_type": "stream",
     "text": [
      "strin\n"
     ]
    }
   ],
   "source": [
    "s1 = 'Python sample string'\n",
    "print(s1[-6:-1:1]) "
   ]
  },
  {
   "cell_type": "markdown",
   "metadata": {},
   "source": [
    "# Built-in Function\n",
    "    - split() - convert string to list base on seperators(',',' ')\n",
    "    - join()"
   ]
  },
  {
   "cell_type": "code",
   "execution_count": 22,
   "metadata": {},
   "outputs": [
    {
     "name": "stdout",
     "output_type": "stream",
     "text": [
      "['Python', 'Java', 'C', 'C++']\n",
      "Python\n"
     ]
    }
   ],
   "source": [
    "s = 'Python,Java,C,C++'\n",
    "l = s.split(',')\n",
    "print(l)\n",
    "print(l[0])"
   ]
  },
  {
   "cell_type": "code",
   "execution_count": 21,
   "metadata": {},
   "outputs": [
    {
     "name": "stdout",
     "output_type": "stream",
     "text": [
      "['Python,Java,C,C++']\n",
      "Python,Java,C,C++\n"
     ]
    }
   ],
   "source": [
    "s = 'Python,Java,C,C++'\n",
    "l = s.split()\n",
    "print(l)\n",
    "print(l[0])"
   ]
  },
  {
   "cell_type": "code",
   "execution_count": 20,
   "metadata": {},
   "outputs": [
    {
     "name": "stdout",
     "output_type": "stream",
     "text": [
      "['Python', 'Java', 'C', 'C++']\n",
      "Python;Java;C;C++\n"
     ]
    }
   ],
   "source": [
    "s = 'Python,Java,C,C++'\n",
    "l = s.split(',')\n",
    "print(l)\n",
    "s1 = (';').join(l)\n",
    "print(s1)"
   ]
  },
  {
   "cell_type": "code",
   "execution_count": 19,
   "metadata": {},
   "outputs": [
    {
     "name": "stdout",
     "output_type": "stream",
     "text": [
      "['C++', 'C', 'Java', 'Python']\n",
      "C++,C,Java,Python\n"
     ]
    }
   ],
   "source": [
    "s = 'Python,Java,C,C++'\n",
    "l = s.split(',')\n",
    "print(l[::-1])\n",
    "\n",
    "s1 = (',').join(l[::-1])\n",
    "print(s1)"
   ]
  },
  {
   "cell_type": "markdown",
   "metadata": {},
   "source": [
    "# List"
   ]
  },
  {
   "cell_type": "code",
   "execution_count": 18,
   "metadata": {},
   "outputs": [
    {
     "name": "stdout",
     "output_type": "stream",
     "text": [
      "[1, 2, 3]\n",
      "[4, 5, 6]\n",
      "[7, 8, 9]\n",
      "[1, 2, 3, 4, 5, 6, 7, 8, 9]\n"
     ]
    }
   ],
   "source": [
    "#using for loop\n",
    "\n",
    "l1 = [[1,2,3],[4,5,6],[7,8,9]]\n",
    "l2 = []\n",
    "for loop in l1:\n",
    "    print(loop)\n",
    "    for nestedloop in loop:\n",
    "        l2.append(nestedloop)\n",
    "print(l2)\n",
    "# print(l2[-1:0:-1])"
   ]
  },
  {
   "cell_type": "code",
   "execution_count": 17,
   "metadata": {},
   "outputs": [
    {
     "name": "stdout",
     "output_type": "stream",
     "text": [
      "[1, 2, 3, 4, 5, 6, 7, 8, 9]\n"
     ]
    }
   ],
   "source": [
    "#extend method\n",
    "l1 = [[1,2,3],[4,5,6],[7,8,9]]\n",
    "l2 = []\n",
    "for l in l1:\n",
    "    l2.extend(l)\n",
    "print(l2)"
   ]
  },
  {
   "cell_type": "code",
   "execution_count": 16,
   "metadata": {},
   "outputs": [
    {
     "name": "stdout",
     "output_type": "stream",
     "text": [
      "[1, 2, 3, 4, 5, 6, 7, 8, 9, 100, 200, 300, 400, 500, 600, 700, 800, 900]\n"
     ]
    }
   ],
   "source": [
    "#Matrix Addition\n",
    "l1 = [[1,2,3],[4,5,6],[7,8,9]]\n",
    "l2 = [[100,200,300],[400,500,600],[700,800,900]]\n",
    "sum = []\n",
    "for l in l1,l2:\n",
    "    for li in l:\n",
    "        sum.extend(li)\n",
    "print(sum)    \n",
    "# But we did not need this output \n",
    "#output should be [101,202,303,404,505,606,707,808,909]"
   ]
  },
  {
   "cell_type": "code",
   "execution_count": 15,
   "metadata": {},
   "outputs": [
    {
     "name": "stdout",
     "output_type": "stream",
     "text": [
      "[101, 202, 303, 404, 505, 606, 707, 808, 909]\n"
     ]
    }
   ],
   "source": [
    "l1 = [[1,2,3],[4,5,6],[7,8,9]]\n",
    "l2 = [[100,200,300],[400,500,600],[700,800,900]]\n",
    "sum = []\n",
    "for row in range(len(l1)):\n",
    "    for col in range(len(l1[0])):\n",
    "        sum.append(l1[row][col] + l2[row][col])\n",
    "print(sum)"
   ]
  },
  {
   "cell_type": "code",
   "execution_count": 14,
   "metadata": {},
   "outputs": [
    {
     "name": "stdout",
     "output_type": "stream",
     "text": [
      "[[101, 202, 303], [404, 505, 606], [707, 808, 909]]\n"
     ]
    }
   ],
   "source": [
    "l1 = [[1,2,3],[4,5,6],[7,8,9]]\n",
    "l2 = [[100,200,300],[400,500,600],[700,800,900]]\n",
    "sum = []\n",
    "for row in range(len(l1)):\n",
    "    \n",
    "    temp = []   #when temp reaches is the value will be 0\n",
    "    \n",
    "    for col in range(len(l1)):\n",
    "        temp.append(l1[row][col] + l2[row][col])\n",
    "    sum.append(temp)\n",
    "print(sum)"
   ]
  },
  {
   "cell_type": "markdown",
   "metadata": {},
   "source": [
    "# List Comprehension"
   ]
  },
  {
   "cell_type": "code",
   "execution_count": 13,
   "metadata": {},
   "outputs": [
    {
     "name": "stdout",
     "output_type": "stream",
     "text": [
      "[1]\n",
      "[4]\n",
      "[9]\n",
      "[16]\n",
      "[25]\n",
      "[36]\n",
      "[49]\n",
      "[64]\n",
      "[81]\n",
      "[100]\n"
     ]
    }
   ],
   "source": [
    "#using loop   #squre\n",
    "sqr = []\n",
    "for p in range(1,11):\n",
    "    sqr = [p ** 2]\n",
    "    print(sqr)"
   ]
  },
  {
   "cell_type": "code",
   "execution_count": 12,
   "metadata": {},
   "outputs": [
    {
     "name": "stdout",
     "output_type": "stream",
     "text": [
      "[0, 1, 4, 9, 16, 25, 36, 49, 64, 81]\n"
     ]
    }
   ],
   "source": [
    "#sort form lambda expression\n",
    "\n",
    "sqr = [x ** 2 for x in range(10)]\n",
    "print(sqr)"
   ]
  },
  {
   "cell_type": "code",
   "execution_count": 11,
   "metadata": {},
   "outputs": [
    {
     "name": "stdout",
     "output_type": "stream",
     "text": [
      "[1]\n",
      "[2]\n",
      "[4]\n",
      "[8]\n",
      "[16]\n",
      "[32]\n",
      "[64]\n",
      "[128]\n",
      "[256]\n",
      "[512]\n"
     ]
    }
   ],
   "source": [
    "# 2 to the power\n",
    "pow2 = []\n",
    "for x in range(10):\n",
    "    pow2 = [2 ** x]\n",
    "    print(pow2)"
   ]
  },
  {
   "cell_type": "code",
   "execution_count": 10,
   "metadata": {},
   "outputs": [
    {
     "name": "stdout",
     "output_type": "stream",
     "text": [
      "[1, 2, 4, 8, 16, 32, 64, 128, 256, 512]\n"
     ]
    }
   ],
   "source": [
    "#short form  #lambda expression\n",
    "\n",
    "pow = [2 ** x for x in range(10)]\n",
    "print(pow)"
   ]
  },
  {
   "cell_type": "markdown",
   "metadata": {},
   "source": [
    "# Dictionaries"
   ]
  },
  {
   "cell_type": "code",
   "execution_count": null,
   "metadata": {},
   "outputs": [],
   "source": [
    "dict\n",
    "        - unordered\n",
    "        - key must be immutable - str , number or tuple\n",
    "    "
   ]
  },
  {
   "cell_type": "code",
   "execution_count": 9,
   "metadata": {},
   "outputs": [
    {
     "name": "stdout",
     "output_type": "stream",
     "text": [
      "krishna\n",
      "22\n"
     ]
    }
   ],
   "source": [
    "# key str\n",
    "dic = {'name': 'krishna','age':22}\n",
    "print(dic['name'])\n",
    "print(dic['age'])"
   ]
  },
  {
   "cell_type": "code",
   "execution_count": 8,
   "metadata": {},
   "outputs": [
    {
     "name": "stdout",
     "output_type": "stream",
     "text": [
      "21\n"
     ]
    }
   ],
   "source": [
    "# key number'\n",
    "dic = {1:21,2:22}\n",
    "print(dic[1])"
   ]
  },
  {
   "cell_type": "code",
   "execution_count": 7,
   "metadata": {},
   "outputs": [
    {
     "name": "stdout",
     "output_type": "stream",
     "text": [
      "7\n"
     ]
    }
   ],
   "source": [
    "# key tuple\n",
    "dic = {(1,2,3) : 7,(4,5,6):8}\n",
    "print(dic[(1,2,3)])"
   ]
  },
  {
   "cell_type": "code",
   "execution_count": 6,
   "metadata": {},
   "outputs": [
    {
     "name": "stdout",
     "output_type": "stream",
     "text": [
      "kr\n",
      "22\n",
      "{'name': 'kr', 'age': 22, 'address': 'Bokaro'}\n"
     ]
    }
   ],
   "source": [
    "#changing value\n",
    "dic = {'name': 'krishna','age':22}\n",
    "dic['name'] = 'kr'\n",
    "dic['address'] = 'Bokaro'\n",
    "print(dic['name'])\n",
    "print(dic['age'])\n",
    "print(dic)"
   ]
  },
  {
   "cell_type": "code",
   "execution_count": 5,
   "metadata": {},
   "outputs": [
    {
     "name": "stdout",
     "output_type": "stream",
     "text": [
      "{1: 1, 2: 4, 3: 9, 4: 16, 5: 25}\n",
      "returns value: 16\n",
      "dic after pop() method: {1: 1, 2: 4, 3: 9, 5: 25}\n",
      "(5, 25)\n",
      "{1: 1, 2: 4, 3: 9}\n",
      "{1: 1, 2: 4}\n"
     ]
    },
    {
     "ename": "NameError",
     "evalue": "name 'sqr' is not defined",
     "output_type": "error",
     "traceback": [
      "\u001b[0;31m---------------------------------------------------------------------------\u001b[0m",
      "\u001b[0;31mNameError\u001b[0m                                 Traceback (most recent call last)",
      "\u001b[0;32m<ipython-input-5-2f929f5db046>\u001b[0m in \u001b[0;36m<module>\u001b[0;34m\u001b[0m\n\u001b[1;32m     18\u001b[0m \u001b[0;31m#delete dic\u001b[0m\u001b[0;34m\u001b[0m\u001b[0;34m\u001b[0m\u001b[0;34m\u001b[0m\u001b[0m\n\u001b[1;32m     19\u001b[0m \u001b[0;32mdel\u001b[0m \u001b[0msqr\u001b[0m\u001b[0;34m\u001b[0m\u001b[0;34m\u001b[0m\u001b[0m\n\u001b[0;32m---> 20\u001b[0;31m \u001b[0mprint\u001b[0m\u001b[0;34m(\u001b[0m\u001b[0msqr\u001b[0m\u001b[0;34m)\u001b[0m\u001b[0;34m\u001b[0m\u001b[0;34m\u001b[0m\u001b[0m\n\u001b[0m\u001b[1;32m     21\u001b[0m \u001b[0;34m\u001b[0m\u001b[0m\n",
      "\u001b[0;31mNameError\u001b[0m: name 'sqr' is not defined"
     ]
    }
   ],
   "source": [
    "sqr = {1 : 1, 2 : 4, 3 : 9, 4 : 16, 5 : 25}\n",
    "print(sqr)\n",
    "\n",
    "#pop()\n",
    "p = sqr.pop(4)\n",
    "print('returns value:',p)\n",
    "print('dic after pop() method:',sqr)\n",
    "\n",
    "#popitem()  # removes random item\n",
    "p = sqr.popitem()\n",
    "print(p)\n",
    "print(sqr)\n",
    "\n",
    "#del #deletes particular item\n",
    "del sqr[3]\n",
    "print(sqr)\n",
    "\n",
    "#delete dic\n",
    "del sqr\n",
    "print(sqr)\n",
    "\n"
   ]
  },
  {
   "cell_type": "markdown",
   "metadata": {},
   "source": [
    "# Dictionary Comprehension¶"
   ]
  },
  {
   "cell_type": "code",
   "execution_count": 4,
   "metadata": {},
   "outputs": [
    {
     "name": "stdout",
     "output_type": "stream",
     "text": [
      "{1: 1, 2: 4, 3: 27, 4: 256, 5: 3125, 6: 46656, 7: 823543, 8: 16777216, 9: 387420489, 10: 10000000000}\n",
      "10000000000\n"
     ]
    }
   ],
   "source": [
    "dic = {x : x ** x for x in range(1,11)}\n",
    "print(dic)\n",
    "print(dic[10])"
   ]
  },
  {
   "cell_type": "code",
   "execution_count": 3,
   "metadata": {},
   "outputs": [
    {
     "name": "stdout",
     "output_type": "stream",
     "text": [
      "odd value {1: 1, 3: 9, 5: 25, 7: 49, 9: 81}\n"
     ]
    }
   ],
   "source": [
    "dic = {x : x * x for x in range(1,11) if x % 2 == 1}\n",
    "print('odd value',dic)"
   ]
  },
  {
   "cell_type": "markdown",
   "metadata": {},
   "source": [
    "# Dictionary Membership Test\n",
    "    - checks only key valye not the actual value"
   ]
  },
  {
   "cell_type": "code",
   "execution_count": 2,
   "metadata": {},
   "outputs": [
    {
     "name": "stdout",
     "output_type": "stream",
     "text": [
      "True\n"
     ]
    }
   ],
   "source": [
    "dic = {x : x * x for x in range(1,11)}\n",
    "print(1 in dic)"
   ]
  },
  {
   "cell_type": "code",
   "execution_count": 1,
   "metadata": {},
   "outputs": [
    {
     "name": "stdout",
     "output_type": "stream",
     "text": [
      "1 : 1\n",
      "3 : 9\n",
      "5 : 25\n",
      "7 : 49\n",
      "9 : 81\n"
     ]
    }
   ],
   "source": [
    "# iterating dictionary\n",
    "dic = {1: 1, 3: 9, 5: 25, 7: 49, 9: 81}\n",
    "for x in dic:\n",
    "    print(x,':',dic[x])"
   ]
  },
  {
   "cell_type": "code",
   "execution_count": null,
   "metadata": {},
   "outputs": [],
   "source": []
  },
  {
   "cell_type": "code",
   "execution_count": null,
   "metadata": {},
   "outputs": [],
   "source": []
  },
  {
   "cell_type": "code",
   "execution_count": null,
   "metadata": {},
   "outputs": [],
   "source": []
  }
 ],
 "metadata": {
  "kernelspec": {
   "display_name": "Python 3",
   "language": "python",
   "name": "python3"
  },
  "language_info": {
   "codemirror_mode": {
    "name": "ipython",
    "version": 3
   },
   "file_extension": ".py",
   "mimetype": "text/x-python",
   "name": "python",
   "nbconvert_exporter": "python",
   "pygments_lexer": "ipython3",
   "version": "3.7.4"
  }
 },
 "nbformat": 4,
 "nbformat_minor": 2
}
