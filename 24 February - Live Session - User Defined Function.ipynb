{
 "cells": [
  {
   "cell_type": "markdown",
   "metadata": {},
   "source": [
    "# user defined function\n",
    "    - a set of instructions which i want to use again and again.\n",
    "    - func defination \n",
    "    - function call\n",
    "    \n",
    "    "
   ]
  },
  {
   "cell_type": "code",
   "execution_count": null,
   "metadata": {},
   "outputs": [],
   "source": [
    "def func_name(args):\n",
    "    statement\n",
    "    return value"
   ]
  },
  {
   "cell_type": "code",
   "execution_count": 1,
   "metadata": {},
   "outputs": [
    {
     "name": "stdout",
     "output_type": "stream",
     "text": [
      "nrael ot ysae si nohtyP\n"
     ]
    }
   ],
   "source": [
    "s = 'Python is easy to learn'\n",
    "print(s[::-1])"
   ]
  },
  {
   "cell_type": "code",
   "execution_count": 2,
   "metadata": {},
   "outputs": [
    {
     "name": "stdout",
     "output_type": "stream",
     "text": [
      "nrael ot ysae si nohtyP\n"
     ]
    }
   ],
   "source": [
    "def str_rev(s):\n",
    "    return s[::-1]\n",
    "s = 'Python is easy to learn'\n",
    "result = str_rev(s)\n",
    "print(result)"
   ]
  },
  {
   "cell_type": "code",
   "execution_count": 3,
   "metadata": {},
   "outputs": [
    {
     "name": "stdout",
     "output_type": "stream",
     "text": [
      "iH\n"
     ]
    }
   ],
   "source": [
    "s1 = 'Hi'\n",
    "result = str_rev(s1)\n",
    "print(result)"
   ]
  },
  {
   "cell_type": "code",
   "execution_count": 5,
   "metadata": {},
   "outputs": [
    {
     "name": "stdout",
     "output_type": "stream",
     "text": [
      "300\n",
      "None\n"
     ]
    }
   ],
   "source": [
    "def add(a,b):\n",
    "    sum = a + b\n",
    "    print(sum)\n",
    "result = add(100,200)  #starts form here \n",
    "print(result)   # not returning any value so python will return None"
   ]
  },
  {
   "cell_type": "code",
   "execution_count": 10,
   "metadata": {},
   "outputs": [
    {
     "name": "stdout",
     "output_type": "stream",
     "text": [
      "300\n"
     ]
    }
   ],
   "source": [
    "def add(a,b):\n",
    "    sum = a + b\n",
    "#     return -1\n",
    "#     return add\n",
    "    return sum\n",
    "    print('Hi Python') #it won't return this ..this unreachable code\n",
    "    \n",
    "result = add(100,200)\n",
    "print(result)"
   ]
  },
  {
   "cell_type": "code",
   "execution_count": 13,
   "metadata": {},
   "outputs": [
    {
     "name": "stdout",
     "output_type": "stream",
     "text": [
      "True\n"
     ]
    }
   ],
   "source": [
    "def even_odd(n):\n",
    "    if n % 2 == 0:\n",
    "        return True\n",
    "    return False\n",
    "print(even_odd(10))"
   ]
  },
  {
   "cell_type": "code",
   "execution_count": 20,
   "metadata": {},
   "outputs": [
    {
     "data": {
      "text/plain": [
       "True"
      ]
     },
     "execution_count": 20,
     "metadata": {},
     "output_type": "execute_result"
    }
   ],
   "source": [
    "def search():\n",
    "    nums = [10,20,30,40,50,60]\n",
    "    key = 50\n",
    "    for num in nums:\n",
    "        if num == key:\n",
    "            return True\n",
    "    else:\n",
    "        return False\n",
    "search()\n",
    "\n"
   ]
  },
  {
   "cell_type": "code",
   "execution_count": 30,
   "metadata": {},
   "outputs": [
    {
     "name": "stdout",
     "output_type": "stream",
     "text": [
      "(True, 4)\n"
     ]
    }
   ],
   "source": [
    "# Kumal Method\n",
    "def search(n,k):\n",
    "    for index,value in enumerate(n):\n",
    "        if value == k:\n",
    "            return True,index\n",
    "    else:\n",
    "        return False\n",
    "    \n",
    "nums = [10,20,30,40,50,60]\n",
    "key = 50\n",
    "print(search(nums,key))"
   ]
  },
  {
   "cell_type": "code",
   "execution_count": null,
   "metadata": {},
   "outputs": [],
   "source": [
    "# python return can return multiple value in form tuple"
   ]
  },
  {
   "cell_type": "code",
   "execution_count": 33,
   "metadata": {},
   "outputs": [
    {
     "name": "stdout",
     "output_type": "stream",
     "text": [
      "krishna Kumar\n"
     ]
    }
   ],
   "source": [
    "def add(a,b):\n",
    "    sum = a + b\n",
    "    return sum\n",
    "result = add('krishna ','Kumar')  \n",
    "print(result)  "
   ]
  },
  {
   "cell_type": "code",
   "execution_count": 34,
   "metadata": {},
   "outputs": [
    {
     "name": "stdout",
     "output_type": "stream",
     "text": [
      "100 200\n",
      "300\n"
     ]
    }
   ],
   "source": [
    "def add(a,b):\n",
    "    print(a,b)\n",
    "    if type(a) == type(b):\n",
    "        sum = a + b\n",
    "        return sum\n",
    "    else :\n",
    "        False\n",
    "        \n",
    "result = add(100,200)  \n",
    "print(result)"
   ]
  },
  {
   "cell_type": "code",
   "execution_count": 35,
   "metadata": {},
   "outputs": [
    {
     "name": "stdout",
     "output_type": "stream",
     "text": [
      "[5, 15, 45, 54, 74, 78, 96, 452]\n"
     ]
    }
   ],
   "source": [
    "num = [15,452,74,78,96,54,5,45]\n",
    "# find_max(num,1)\n",
    "print(sorted(num))"
   ]
  },
  {
   "cell_type": "code",
   "execution_count": 48,
   "metadata": {},
   "outputs": [
    {
     "name": "stdout",
     "output_type": "stream",
     "text": [
      "(0, 5)\n"
     ]
    }
   ],
   "source": [
    "#wrong \n",
    "def find_max(num):\n",
    "    max_value = 0\n",
    "    for index,x in enumerate(num):\n",
    "        if x > max_value:\n",
    "            max_value = x\n",
    "            return index,max_value\n",
    "    \n",
    "num = sorted([15,452,74,78,96,54,5,45])\n",
    "\n",
    "print(find_max(num))\n",
    "           "
   ]
  },
  {
   "cell_type": "code",
   "execution_count": 52,
   "metadata": {
    "scrolled": true
   },
   "outputs": [
    {
     "name": "stdout",
     "output_type": "stream",
     "text": [
      "452\n"
     ]
    }
   ],
   "source": [
    "def find_max(n,max_index):\n",
    "    \n",
    "    sorted_num = sorted(set(n))\n",
    "    return sorted_num[-max_index]\n",
    "    \n",
    "num = sorted([15,452,74,78,96,54,5,45])\n",
    "print(find_max(num,1))"
   ]
  },
  {
   "cell_type": "markdown",
   "metadata": {},
   "source": [
    "parameter passing techniques:\n",
    "    1. positional agrs total num args in def and in func call should be same\n",
    "    2. Defaulf args"
   ]
  },
  {
   "cell_type": "code",
   "execution_count": 57,
   "metadata": {},
   "outputs": [
    {
     "ename": "SyntaxError",
     "evalue": "non-default argument follows default argument (<ipython-input-57-22da49194557>, line 1)",
     "output_type": "error",
     "traceback": [
      "\u001b[0;36m  File \u001b[0;32m\"<ipython-input-57-22da49194557>\"\u001b[0;36m, line \u001b[0;32m1\u001b[0m\n\u001b[0;31m    def add(a = 0,b ):\u001b[0m\n\u001b[0m           ^\u001b[0m\n\u001b[0;31mSyntaxError\u001b[0m\u001b[0;31m:\u001b[0m non-default argument follows default argument\n"
     ]
    }
   ],
   "source": [
    "#sequece has to be positional\n",
    "def add(a = 0,b ):\n",
    "    print(a,b)\n",
    "    sum = a + b\n",
    "    return sum\n",
    "result = add(100,100)  \n",
    "print(result)  "
   ]
  },
  {
   "cell_type": "code",
   "execution_count": 58,
   "metadata": {},
   "outputs": [
    {
     "name": "stdout",
     "output_type": "stream",
     "text": [
      "100 100\n",
      "200\n"
     ]
    }
   ],
   "source": [
    "def add(a = 0,b = 0 ):\n",
    "    print(a,b)\n",
    "    sum = a + b\n",
    "    return sum\n",
    "result = add(100,100)  \n",
    "print(result)  "
   ]
  },
  {
   "cell_type": "code",
   "execution_count": 62,
   "metadata": {},
   "outputs": [
    {
     "name": "stdout",
     "output_type": "stream",
     "text": [
      "100 Python\n"
     ]
    }
   ],
   "source": [
    "#defaultly \\n\n",
    "\n",
    "print(100,end = ' ')\n",
    "print('Python')"
   ]
  },
  {
   "cell_type": "code",
   "execution_count": 60,
   "metadata": {},
   "outputs": [
    {
     "name": "stdout",
     "output_type": "stream",
     "text": [
      "Help on built-in function print in module builtins:\n",
      "\n",
      "print(...)\n",
      "    print(value, ..., sep=' ', end='\\n', file=sys.stdout, flush=False)\n",
      "    \n",
      "    Prints the values to a stream, or to sys.stdout by default.\n",
      "    Optional keyword arguments:\n",
      "    file:  a file-like object (stream); defaults to the current sys.stdout.\n",
      "    sep:   string inserted between values, default a space.\n",
      "    end:   string appended after the last value, default a newline.\n",
      "    flush: whether to forcibly flush the stream.\n",
      "\n"
     ]
    }
   ],
   "source": [
    "help(print)"
   ]
  },
  {
   "cell_type": "code",
   "execution_count": 64,
   "metadata": {},
   "outputs": [],
   "source": [
    "import random"
   ]
  },
  {
   "cell_type": "code",
   "execution_count": 86,
   "metadata": {},
   "outputs": [
    {
     "name": "stdout",
     "output_type": "stream",
     "text": [
      "0.9035873185832844\n"
     ]
    }
   ],
   "source": [
    "print(random.random())\n",
    "#generating random number"
   ]
  },
  {
   "cell_type": "code",
   "execution_count": 105,
   "metadata": {},
   "outputs": [
    {
     "name": "stdout",
     "output_type": "stream",
     "text": [
      "6\n"
     ]
    }
   ],
   "source": [
    "dice = [1,2,3,4,5,6]\n",
    "print(random.choice(dice))  #choice is module function"
   ]
  },
  {
   "cell_type": "code",
   "execution_count": 156,
   "metadata": {},
   "outputs": [
    {
     "name": "stdout",
     "output_type": "stream",
     "text": [
      "13\n"
     ]
    }
   ],
   "source": [
    "#end is inclusive\n",
    "\n",
    "print(random.randint(10,15))"
   ]
  },
  {
   "cell_type": "code",
   "execution_count": 144,
   "metadata": {},
   "outputs": [
    {
     "name": "stdout",
     "output_type": "stream",
     "text": [
      "10\n"
     ]
    }
   ],
   "source": [
    "# end is exclusive\n",
    "print(random.randrange(10,15))"
   ]
  },
  {
   "cell_type": "code",
   "execution_count": 161,
   "metadata": {},
   "outputs": [
    {
     "name": "stdout",
     "output_type": "stream",
     "text": [
      "10.524357670490243\n"
     ]
    }
   ],
   "source": [
    "# floating number and end is exclusive\n",
    "print(random.uniform(10,15))"
   ]
  },
  {
   "cell_type": "code",
   "execution_count": null,
   "metadata": {},
   "outputs": [],
   "source": [
    "gen_pass()\n",
    "    8 chars\n",
    "    - 1 upper\n",
    "    - 1 lower\n",
    "    - 1 special char [!@#&$]\n",
    "    - 5 digit"
   ]
  },
  {
   "cell_type": "code",
   "execution_count": null,
   "metadata": {},
   "outputs": [],
   "source": [
    "gen_pass():\n",
    "    "
   ]
  },
  {
   "cell_type": "code",
   "execution_count": 164,
   "metadata": {},
   "outputs": [
    {
     "name": "stdout",
     "output_type": "stream",
     "text": [
      "97 122\n",
      "a z\n"
     ]
    }
   ],
   "source": [
    "print(ord('a'),ord('z'))\n",
    "print(chr(97),chr(122))"
   ]
  },
  {
   "cell_type": "code",
   "execution_count": 193,
   "metadata": {},
   "outputs": [
    {
     "name": "stdout",
     "output_type": "stream",
     "text": [
      "x\n",
      "U\n",
      "#\n",
      "35826\n"
     ]
    }
   ],
   "source": [
    "lower = chr(random.randint(ord('a'),ord('z')))\n",
    "print(lower)\n",
    "\n",
    "upper = chr(random.randint(ord('A'),ord('Z')))\n",
    "print(upper)\n",
    "\n",
    "chars = ['!','@','#','$','&']\n",
    "special = random.choice(chars)\n",
    "print(special)\n",
    "\n",
    "digit = random.randint(10000,99999)\n",
    "print(digit)"
   ]
  },
  {
   "cell_type": "code",
   "execution_count": 194,
   "metadata": {},
   "outputs": [
    {
     "name": "stdout",
     "output_type": "stream",
     "text": [
      "Help on method sample in module random:\n",
      "\n",
      "sample(population, k) method of random.Random instance\n",
      "    Chooses k unique random elements from a population sequence or set.\n",
      "    \n",
      "    Returns a new list containing elements from the population while\n",
      "    leaving the original population unchanged.  The resulting list is\n",
      "    in selection order so that all sub-slices will also be valid random\n",
      "    samples.  This allows raffle winners (the sample) to be partitioned\n",
      "    into grand prize and second place winners (the subslices).\n",
      "    \n",
      "    Members of the population need not be hashable or unique.  If the\n",
      "    population contains repeats, then each occurrence is a possible\n",
      "    selection in the sample.\n",
      "    \n",
      "    To choose a sample in a range of integers, use range as an argument.\n",
      "    This is especially fast and space efficient for sampling from a\n",
      "    large population:   sample(range(10000000), 60)\n",
      "\n"
     ]
    }
   ],
   "source": [
    "help(random.sample)"
   ]
  }
 ],
 "metadata": {
  "kernelspec": {
   "display_name": "Python 3",
   "language": "python",
   "name": "python3"
  },
  "language_info": {
   "codemirror_mode": {
    "name": "ipython",
    "version": 3
   },
   "file_extension": ".py",
   "mimetype": "text/x-python",
   "name": "python",
   "nbconvert_exporter": "python",
   "pygments_lexer": "ipython3",
   "version": "3.7.4"
  }
 },
 "nbformat": 4,
 "nbformat_minor": 2
}
