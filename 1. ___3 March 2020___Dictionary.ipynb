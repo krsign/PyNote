{
 "cells": [
  {
   "cell_type": "markdown",
   "metadata": {},
   "source": [
    "# Dictionaries"
   ]
  },
  {
   "cell_type": "code",
   "execution_count": 2,
   "metadata": {},
   "outputs": [
    {
     "name": "stdout",
     "output_type": "stream",
     "text": [
      "Ford\n",
      "Mustang\n",
      "1964\n"
     ]
    }
   ],
   "source": [
    "d = {'Brand': 'Ford','Model': 'Mustang','Year': 1964}\n",
    "print(d.get('Brand'))\n",
    "print(d.get('Model'))\n",
    "print(d.get('Year'))"
   ]
  },
  {
   "cell_type": "code",
   "execution_count": 3,
   "metadata": {},
   "outputs": [
    {
     "name": "stdout",
     "output_type": "stream",
     "text": [
      "{'Brand': 'Ford', 'Model': 'Mustang M1', 'Year': 1964}\n"
     ]
    }
   ],
   "source": [
    "#changing value:\n",
    "d = {'Brand': 'Ford','Model': 'Mustang','Year': 1964}\n",
    "\n",
    "d['Model'] = 'Mustang M1'\n",
    "print(d)"
   ]
  },
  {
   "cell_type": "code",
   "execution_count": 9,
   "metadata": {},
   "outputs": [
    {
     "name": "stdout",
     "output_type": "stream",
     "text": [
      "Brand : Ford\n",
      "Model : Mustang M1\n",
      "Year : 1964\n"
     ]
    }
   ],
   "source": [
    "d = {'Brand': 'Ford', 'Model': 'Mustang M1', 'Year': 1964}\n",
    "\n",
    "for x in d:\n",
    "    print(x,end = ' : ')\n",
    "    print(d.get(x))"
   ]
  },
  {
   "cell_type": "code",
   "execution_count": 10,
   "metadata": {},
   "outputs": [
    {
     "name": "stdout",
     "output_type": "stream",
     "text": [
      "Ford\n",
      "Mustang M1\n",
      "1964\n"
     ]
    }
   ],
   "source": [
    "# values() can also be used to get the value directly\n",
    "\n",
    "\n",
    "d = {'Brand': 'Ford', 'Model': 'Mustang M1', 'Year': 1964}\n",
    "\n",
    "for x in d.values():\n",
    "    print(x)"
   ]
  },
  {
   "cell_type": "code",
   "execution_count": 11,
   "metadata": {},
   "outputs": [
    {
     "name": "stdout",
     "output_type": "stream",
     "text": [
      "Brand Ford\n",
      "Model Mustang M1\n",
      "Year 1964\n"
     ]
    }
   ],
   "source": [
    "# key and value at same time can be accessed using items()\n",
    "d = {'Brand': 'Ford', 'Model': 'Mustang M1', 'Year': 1964}\n",
    "\n",
    "for x,y in d.items():\n",
    "    print(x,y)"
   ]
  },
  {
   "cell_type": "code",
   "execution_count": 14,
   "metadata": {},
   "outputs": [
    {
     "name": "stdout",
     "output_type": "stream",
     "text": [
      "True\n"
     ]
    }
   ],
   "source": [
    "# key can be checked if it exist or not?\n",
    "\n",
    "d = {'Brand': 'Ford', 'Model': 'Mustang M1', 'Year': 1964}\n",
    "\n",
    "if 'Model' in d:\n",
    "    print(True)"
   ]
  },
  {
   "cell_type": "code",
   "execution_count": 15,
   "metadata": {},
   "outputs": [
    {
     "name": "stdout",
     "output_type": "stream",
     "text": [
      "{'Brand': 'Ford', 'Model': 'Mustang M1', 'Year': 1964, 'Color': 'Red'}\n"
     ]
    }
   ],
   "source": [
    "# Items can be added\n",
    "\n",
    "d = {'Brand': 'Ford', 'Model': 'Mustang M1', 'Year': 1964}\n",
    "d['Color'] = 'Red'\n",
    "print(d)"
   ]
  },
  {
   "cell_type": "code",
   "execution_count": 16,
   "metadata": {},
   "outputs": [
    {
     "name": "stdout",
     "output_type": "stream",
     "text": [
      "{'Brand': 'Ford', 'Model': 'Mustang M1', 'Color': 'Red'}\n"
     ]
    }
   ],
   "source": [
    "# items can be removed too\n",
    "\n",
    "d = {'Brand': 'Ford', 'Model': 'Mustang M1', 'Year': 1964, 'Color': 'Red'}\n",
    "\n",
    "d.pop('Year')\n",
    "print(d)"
   ]
  },
  {
   "cell_type": "code",
   "execution_count": 18,
   "metadata": {},
   "outputs": [
    {
     "name": "stdout",
     "output_type": "stream",
     "text": [
      "{'Brand': 'Ford', 'Model': 'Mustang M1', 'Year': 1964}\n"
     ]
    }
   ],
   "source": [
    "# popitem() removes last item from last ....version before 3.7 removes random\n",
    "\n",
    "d = {'Brand': 'Ford', 'Model': 'Mustang M1', 'Year': 1964, 'Color': 'Red'}\n",
    "\n",
    "d.popitem()\n",
    "print(d)"
   ]
  },
  {
   "cell_type": "code",
   "execution_count": 20,
   "metadata": {},
   "outputs": [
    {
     "name": "stdout",
     "output_type": "stream",
     "text": [
      "{'Brand': 'Ford', 'Model': 'Mustang M1', 'Year': 1964, 'Color': 'Red'}\n"
     ]
    },
    {
     "ename": "NameError",
     "evalue": "name 'd' is not defined",
     "output_type": "error",
     "traceback": [
      "\u001b[0;31m---------------------------------------------------------------------------\u001b[0m",
      "\u001b[0;31mNameError\u001b[0m                                 Traceback (most recent call last)",
      "\u001b[0;32m<ipython-input-20-4e9c5a9e69d8>\u001b[0m in \u001b[0;36m<module>\u001b[0;34m\u001b[0m\n\u001b[1;32m      3\u001b[0m \u001b[0mprint\u001b[0m\u001b[0;34m(\u001b[0m\u001b[0md\u001b[0m\u001b[0;34m)\u001b[0m\u001b[0;34m\u001b[0m\u001b[0;34m\u001b[0m\u001b[0m\n\u001b[1;32m      4\u001b[0m \u001b[0;32mdel\u001b[0m \u001b[0md\u001b[0m\u001b[0;34m\u001b[0m\u001b[0;34m\u001b[0m\u001b[0m\n\u001b[0;32m----> 5\u001b[0;31m \u001b[0mprint\u001b[0m\u001b[0;34m(\u001b[0m\u001b[0md\u001b[0m\u001b[0;34m)\u001b[0m\u001b[0;34m\u001b[0m\u001b[0;34m\u001b[0m\u001b[0m\n\u001b[0m",
      "\u001b[0;31mNameError\u001b[0m: name 'd' is not defined"
     ]
    }
   ],
   "source": [
    "# del will delete the entire dictionry\n",
    "\n",
    "d = {'Brand': 'Ford', 'Model': 'Mustang M1', 'Year': 1964, 'Color': 'Red'}\n",
    "\n",
    "print(d)\n",
    "del d\n",
    "print(d)"
   ]
  },
  {
   "cell_type": "code",
   "execution_count": 22,
   "metadata": {},
   "outputs": [
    {
     "name": "stdout",
     "output_type": "stream",
     "text": [
      "{}\n"
     ]
    }
   ],
   "source": [
    "# clear() will empty the dictionary\n",
    "\n",
    "d = {'Brand': 'Ford', 'Model': 'Mustang M1', 'Year': 1964, 'Color': 'Red'}\n",
    "\n",
    "d.clear()\n",
    "print(d)"
   ]
  },
  {
   "cell_type": "code",
   "execution_count": 25,
   "metadata": {},
   "outputs": [
    {
     "name": "stdout",
     "output_type": "stream",
     "text": [
      "4517032496 4517032496\n",
      "{'Brand': 'Ford', 'Model': 'Mustang M1', 'Year': 1964, 'Color': 'Red', 'Price': '$80000'}\n",
      "{'Brand': 'Ford', 'Model': 'Mustang M1', 'Year': 1964, 'Color': 'Red', 'Price': '$80000'}\n"
     ]
    }
   ],
   "source": [
    "# you cannot copy dict by d1 = d2 , it will reference the id to d2...so anychanges in d1 or d2 will be affected.\n",
    "\n",
    "\n",
    "d1 = {'Brand': 'Ford', 'Model': 'Mustang M1', 'Year': 1964, 'Color': 'Red'}\n",
    "d2 = d1\n",
    "print(id(d1),id(d2))\n",
    "d2['Price'] = '$80000'\n",
    "print(d1)\n",
    "print(d2)"
   ]
  },
  {
   "cell_type": "code",
   "execution_count": 32,
   "metadata": {},
   "outputs": [
    {
     "name": "stdout",
     "output_type": "stream",
     "text": [
      "4517105088 {'Brand': 'Ford', 'Model': 'Mustang M1', 'Year': 1964, 'Color': 'Red'}\n",
      "4517578464 {'Brand': 'Ford', 'Model': 'Mustang M1', 'Year': 1964, 'Color': 'Red', 'Price': '$80000'}\n"
     ]
    }
   ],
   "source": [
    "\n",
    "d1 = {'Brand': 'Ford', 'Model': 'Mustang M1', 'Year': 1964, 'Color': 'Red'}\n",
    "d2 = d1.copy()\n",
    "d2['Price'] = '$80000'\n",
    "print(id(d1),d1)\n",
    "print(id(d2),d2)"
   ]
  },
  {
   "cell_type": "code",
   "execution_count": 45,
   "metadata": {},
   "outputs": [
    {
     "name": "stdout",
     "output_type": "stream",
     "text": [
      "{'child1': {'name': 'Aayush', 'Year': 2013}, 'child2': {'name': 'Ishaan', 'Year': 2015}}\n",
      "{'name': 'Aayush', 'Year': 2013}\n",
      "{'name': 'Ishaan', 'Year': 2015}\n"
     ]
    }
   ],
   "source": [
    "# nested dictionary\n",
    "\n",
    "family = {\n",
    "    'child1': {\n",
    "        'name' : 'Aayush',\n",
    "        'Year': 2013\n",
    "    },\n",
    "    'child2': {\n",
    "        'name' : 'Ishaan',\n",
    "        'Year' : 2015\n",
    "    }\n",
    "}\n",
    "print(family)\n",
    "for x in family:\n",
    "    print(family.get(x))"
   ]
  },
  {
   "cell_type": "code",
   "execution_count": 47,
   "metadata": {},
   "outputs": [
    {
     "name": "stdout",
     "output_type": "stream",
     "text": [
      "child1: {'name': 'Aayush', 'Year': 2013}\n",
      "child2: {'name': 'Ishaan', 'Year': 2015}\n"
     ]
    }
   ],
   "source": [
    "family = {\n",
    "    'child1': {\n",
    "        'name' : 'Aayush',\n",
    "        'Year': 2013\n",
    "    },\n",
    "    'child2': {\n",
    "        'name' : 'Ishaan',\n",
    "        'Year' : 2015\n",
    "    }\n",
    "}\n",
    "\n",
    "for x , y in family.items():\n",
    "    print(x,end = ': ')\n",
    "    print(y)"
   ]
  }
 ],
 "metadata": {
  "kernelspec": {
   "display_name": "Python 3",
   "language": "python",
   "name": "python3"
  },
  "language_info": {
   "codemirror_mode": {
    "name": "ipython",
    "version": 3
   },
   "file_extension": ".py",
   "mimetype": "text/x-python",
   "name": "python",
   "nbconvert_exporter": "python",
   "pygments_lexer": "ipython3",
   "version": "3.7.4"
  }
 },
 "nbformat": 4,
 "nbformat_minor": 2
}
